{
  "cells": [
    {
      "cell_type": "markdown",
      "metadata": {
        "id": "view-in-github",
        "colab_type": "text"
      },
      "source": [
        "<a href=\"https://colab.research.google.com/github/DayDreamChaser/torch-action/blob/main/BERT%E2%80%94%E2%80%94transformers.ipynb\" target=\"_parent\"><img src=\"https://colab.research.google.com/assets/colab-badge.svg\" alt=\"Open In Colab\"/></a>"
      ]
    },
    {
      "cell_type": "markdown",
      "metadata": {
        "id": "e_fso1PElkCT"
      },
      "source": [
        "# BERT文本分类"
      ]
    },
    {
      "cell_type": "markdown",
      "source": [],
      "metadata": {
        "id": "GObbqe_g0itK"
      }
    },
    {
      "cell_type": "markdown",
      "metadata": {
        "id": "QdnUpeb1lkCV"
      },
      "source": [
        "任务：微调BERT来处理文本情感分类任务\n",
        "\n",
        "数据集：美团外卖的用户评论数据集\n",
        "\n",
        "目标：把评论分成，好评(标签为1) 和 差评(标签为0)"
      ]
    },
    {
      "cell_type": "code",
      "execution_count": 1,
      "metadata": {
        "id": "XNrvFDIclkCW"
      },
      "outputs": [],
      "source": [
        "#安装库\n",
        "# !pip install datasets\n",
        "# !pip install transformers[torch]\n",
        "# !pip install torchkeras"
      ]
    },
    {
      "cell_type": "code",
      "source": [],
      "metadata": {
        "id": "Abl67-9UFsi9"
      },
      "execution_count": 1,
      "outputs": []
    },
    {
      "cell_type": "markdown",
      "metadata": {
        "id": "Fqt1MTCalkCX"
      },
      "source": [
        "## 一，准备数据"
      ]
    },
    {
      "cell_type": "markdown",
      "metadata": {
        "id": "nX2CwcRrlkCX"
      },
      "source": [
        "准备数据阶段主要需要用到的是datasets.Dataset 和transformers.AutoTokenizer。\n"
      ]
    },
    {
      "cell_type": "markdown",
      "metadata": {
        "id": "kdOYBSRYlkCX"
      },
      "source": [
        "### 1，数据加载"
      ]
    },
    {
      "cell_type": "markdown",
      "metadata": {
        "id": "h9VVb7yLlkCX"
      },
      "source": [
        "HuggingFace的datasets库提供了Dataset的功能。"
      ]
    },
    {
      "cell_type": "code",
      "execution_count": 2,
      "metadata": {
        "id": "EMYHMztLlkCY"
      },
      "outputs": [],
      "source": [
        "import numpy as np\n",
        "import pandas as pd\n",
        "import datasets\n",
        "\n",
        "import torch\n",
        "from torch.utils.data import DataLoader"
      ]
    },
    {
      "cell_type": "code",
      "source": [
        "import urllib.request\n",
        "import os\n",
        "\n",
        "url_base = 'https://raw.githubusercontent.com/SophonPlus/ChineseNlpCorpus/master/datasets/waimai_10k/'\n",
        "key_file = 'waimai_10k.csv'\n",
        "dataset_dir = \"data\"\n",
        "\n",
        "\n",
        "def _download(file_name):\n",
        "    file_path = dataset_dir + \"/\" + file_name\n",
        "    if os.path.exists(file_path):\n",
        "        return\n",
        "\n",
        "    print(\"Downloading \" + file_name + \" ... \")\n",
        "    urllib.request.urlretrieve(url_base + file_name, file_path)\n",
        "    print(\"Done\")\n",
        "\n",
        "_download(key_file)"
      ],
      "metadata": {
        "id": "cTuCcQim0HPs"
      },
      "execution_count": 3,
      "outputs": []
    },
    {
      "cell_type": "code",
      "execution_count": 4,
      "metadata": {
        "id": "z0ycQw0ulkCY"
      },
      "outputs": [],
      "source": [
        "df = pd.read_csv(\"data/waimai_10k.csv\")\n",
        "df = df.rename(columns={\"label\":\"labels\"})"
      ]
    },
    {
      "cell_type": "code",
      "execution_count": 5,
      "metadata": {
        "colab": {
          "base_uri": "https://localhost:8080/"
        },
        "id": "alJcBzErlkCY",
        "outputId": "d20f5422-faeb-4612-8d35-343445661317"
      },
      "outputs": [
        {
          "output_type": "execute_result",
          "data": {
            "text/plain": [
              "labels               1\n",
              "review    很快，好吃，味道足，量大\n",
              "Name: 0, dtype: object"
            ]
          },
          "metadata": {},
          "execution_count": 5
        }
      ],
      "source": [
        "df.loc[0]"
      ]
    },
    {
      "cell_type": "code",
      "source": [
        "df.head(10)"
      ],
      "metadata": {
        "colab": {
          "base_uri": "https://localhost:8080/",
          "height": 363
        },
        "id": "P1Q3j-7U0sYi",
        "outputId": "35952111-4c16-4a03-c689-24b7744b8c5b"
      },
      "execution_count": 6,
      "outputs": [
        {
          "output_type": "execute_result",
          "data": {
            "text/plain": [
              "   labels                                review\n",
              "0       1                          很快，好吃，味道足，量大\n",
              "1       1                          没有送水没有送水没有送水\n",
              "2       1                              非常快，态度好。\n",
              "3       1                       方便，快捷，味道可口，快递给力\n",
              "4       1                          菜味道很棒！送餐很及时！\n",
              "5       1                     今天师傅是不是手抖了，微辣格外辣！\n",
              "6       1                      送餐快,态度也特别好,辛苦啦谢谢\n",
              "7       1  超级快就送到了，这么冷的天气骑士们辛苦了。谢谢你们。麻辣香锅依然很好吃。\n",
              "8       1            经过上次晚了2小时，这次超级快，20分钟就送到了……\n",
              "9       1                  最后五分钟订的，卖家特别好接单了，谢谢。"
            ],
            "text/html": [
              "\n",
              "  <div id=\"df-c3316586-97bc-4ac0-a6b6-edb0073a6efd\" class=\"colab-df-container\">\n",
              "    <div>\n",
              "<style scoped>\n",
              "    .dataframe tbody tr th:only-of-type {\n",
              "        vertical-align: middle;\n",
              "    }\n",
              "\n",
              "    .dataframe tbody tr th {\n",
              "        vertical-align: top;\n",
              "    }\n",
              "\n",
              "    .dataframe thead th {\n",
              "        text-align: right;\n",
              "    }\n",
              "</style>\n",
              "<table border=\"1\" class=\"dataframe\">\n",
              "  <thead>\n",
              "    <tr style=\"text-align: right;\">\n",
              "      <th></th>\n",
              "      <th>labels</th>\n",
              "      <th>review</th>\n",
              "    </tr>\n",
              "  </thead>\n",
              "  <tbody>\n",
              "    <tr>\n",
              "      <th>0</th>\n",
              "      <td>1</td>\n",
              "      <td>很快，好吃，味道足，量大</td>\n",
              "    </tr>\n",
              "    <tr>\n",
              "      <th>1</th>\n",
              "      <td>1</td>\n",
              "      <td>没有送水没有送水没有送水</td>\n",
              "    </tr>\n",
              "    <tr>\n",
              "      <th>2</th>\n",
              "      <td>1</td>\n",
              "      <td>非常快，态度好。</td>\n",
              "    </tr>\n",
              "    <tr>\n",
              "      <th>3</th>\n",
              "      <td>1</td>\n",
              "      <td>方便，快捷，味道可口，快递给力</td>\n",
              "    </tr>\n",
              "    <tr>\n",
              "      <th>4</th>\n",
              "      <td>1</td>\n",
              "      <td>菜味道很棒！送餐很及时！</td>\n",
              "    </tr>\n",
              "    <tr>\n",
              "      <th>5</th>\n",
              "      <td>1</td>\n",
              "      <td>今天师傅是不是手抖了，微辣格外辣！</td>\n",
              "    </tr>\n",
              "    <tr>\n",
              "      <th>6</th>\n",
              "      <td>1</td>\n",
              "      <td>送餐快,态度也特别好,辛苦啦谢谢</td>\n",
              "    </tr>\n",
              "    <tr>\n",
              "      <th>7</th>\n",
              "      <td>1</td>\n",
              "      <td>超级快就送到了，这么冷的天气骑士们辛苦了。谢谢你们。麻辣香锅依然很好吃。</td>\n",
              "    </tr>\n",
              "    <tr>\n",
              "      <th>8</th>\n",
              "      <td>1</td>\n",
              "      <td>经过上次晚了2小时，这次超级快，20分钟就送到了……</td>\n",
              "    </tr>\n",
              "    <tr>\n",
              "      <th>9</th>\n",
              "      <td>1</td>\n",
              "      <td>最后五分钟订的，卖家特别好接单了，谢谢。</td>\n",
              "    </tr>\n",
              "  </tbody>\n",
              "</table>\n",
              "</div>\n",
              "    <div class=\"colab-df-buttons\">\n",
              "\n",
              "  <div class=\"colab-df-container\">\n",
              "    <button class=\"colab-df-convert\" onclick=\"convertToInteractive('df-c3316586-97bc-4ac0-a6b6-edb0073a6efd')\"\n",
              "            title=\"Convert this dataframe to an interactive table.\"\n",
              "            style=\"display:none;\">\n",
              "\n",
              "  <svg xmlns=\"http://www.w3.org/2000/svg\" height=\"24px\" viewBox=\"0 -960 960 960\">\n",
              "    <path d=\"M120-120v-720h720v720H120Zm60-500h600v-160H180v160Zm220 220h160v-160H400v160Zm0 220h160v-160H400v160ZM180-400h160v-160H180v160Zm440 0h160v-160H620v160ZM180-180h160v-160H180v160Zm440 0h160v-160H620v160Z\"/>\n",
              "  </svg>\n",
              "    </button>\n",
              "\n",
              "  <style>\n",
              "    .colab-df-container {\n",
              "      display:flex;\n",
              "      gap: 12px;\n",
              "    }\n",
              "\n",
              "    .colab-df-convert {\n",
              "      background-color: #E8F0FE;\n",
              "      border: none;\n",
              "      border-radius: 50%;\n",
              "      cursor: pointer;\n",
              "      display: none;\n",
              "      fill: #1967D2;\n",
              "      height: 32px;\n",
              "      padding: 0 0 0 0;\n",
              "      width: 32px;\n",
              "    }\n",
              "\n",
              "    .colab-df-convert:hover {\n",
              "      background-color: #E2EBFA;\n",
              "      box-shadow: 0px 1px 2px rgba(60, 64, 67, 0.3), 0px 1px 3px 1px rgba(60, 64, 67, 0.15);\n",
              "      fill: #174EA6;\n",
              "    }\n",
              "\n",
              "    .colab-df-buttons div {\n",
              "      margin-bottom: 4px;\n",
              "    }\n",
              "\n",
              "    [theme=dark] .colab-df-convert {\n",
              "      background-color: #3B4455;\n",
              "      fill: #D2E3FC;\n",
              "    }\n",
              "\n",
              "    [theme=dark] .colab-df-convert:hover {\n",
              "      background-color: #434B5C;\n",
              "      box-shadow: 0px 1px 3px 1px rgba(0, 0, 0, 0.15);\n",
              "      filter: drop-shadow(0px 1px 2px rgba(0, 0, 0, 0.3));\n",
              "      fill: #FFFFFF;\n",
              "    }\n",
              "  </style>\n",
              "\n",
              "    <script>\n",
              "      const buttonEl =\n",
              "        document.querySelector('#df-c3316586-97bc-4ac0-a6b6-edb0073a6efd button.colab-df-convert');\n",
              "      buttonEl.style.display =\n",
              "        google.colab.kernel.accessAllowed ? 'block' : 'none';\n",
              "\n",
              "      async function convertToInteractive(key) {\n",
              "        const element = document.querySelector('#df-c3316586-97bc-4ac0-a6b6-edb0073a6efd');\n",
              "        const dataTable =\n",
              "          await google.colab.kernel.invokeFunction('convertToInteractive',\n",
              "                                                    [key], {});\n",
              "        if (!dataTable) return;\n",
              "\n",
              "        const docLinkHtml = 'Like what you see? Visit the ' +\n",
              "          '<a target=\"_blank\" href=https://colab.research.google.com/notebooks/data_table.ipynb>data table notebook</a>'\n",
              "          + ' to learn more about interactive tables.';\n",
              "        element.innerHTML = '';\n",
              "        dataTable['output_type'] = 'display_data';\n",
              "        await google.colab.output.renderOutput(dataTable, element);\n",
              "        const docLink = document.createElement('div');\n",
              "        docLink.innerHTML = docLinkHtml;\n",
              "        element.appendChild(docLink);\n",
              "      }\n",
              "    </script>\n",
              "  </div>\n",
              "\n",
              "\n",
              "<div id=\"df-92e0f83c-1a54-43b5-916d-878b6f1344a0\">\n",
              "  <button class=\"colab-df-quickchart\" onclick=\"quickchart('df-92e0f83c-1a54-43b5-916d-878b6f1344a0')\"\n",
              "            title=\"Suggest charts\"\n",
              "            style=\"display:none;\">\n",
              "\n",
              "<svg xmlns=\"http://www.w3.org/2000/svg\" height=\"24px\"viewBox=\"0 0 24 24\"\n",
              "     width=\"24px\">\n",
              "    <g>\n",
              "        <path d=\"M19 3H5c-1.1 0-2 .9-2 2v14c0 1.1.9 2 2 2h14c1.1 0 2-.9 2-2V5c0-1.1-.9-2-2-2zM9 17H7v-7h2v7zm4 0h-2V7h2v10zm4 0h-2v-4h2v4z\"/>\n",
              "    </g>\n",
              "</svg>\n",
              "  </button>\n",
              "\n",
              "<style>\n",
              "  .colab-df-quickchart {\n",
              "      --bg-color: #E8F0FE;\n",
              "      --fill-color: #1967D2;\n",
              "      --hover-bg-color: #E2EBFA;\n",
              "      --hover-fill-color: #174EA6;\n",
              "      --disabled-fill-color: #AAA;\n",
              "      --disabled-bg-color: #DDD;\n",
              "  }\n",
              "\n",
              "  [theme=dark] .colab-df-quickchart {\n",
              "      --bg-color: #3B4455;\n",
              "      --fill-color: #D2E3FC;\n",
              "      --hover-bg-color: #434B5C;\n",
              "      --hover-fill-color: #FFFFFF;\n",
              "      --disabled-bg-color: #3B4455;\n",
              "      --disabled-fill-color: #666;\n",
              "  }\n",
              "\n",
              "  .colab-df-quickchart {\n",
              "    background-color: var(--bg-color);\n",
              "    border: none;\n",
              "    border-radius: 50%;\n",
              "    cursor: pointer;\n",
              "    display: none;\n",
              "    fill: var(--fill-color);\n",
              "    height: 32px;\n",
              "    padding: 0;\n",
              "    width: 32px;\n",
              "  }\n",
              "\n",
              "  .colab-df-quickchart:hover {\n",
              "    background-color: var(--hover-bg-color);\n",
              "    box-shadow: 0 1px 2px rgba(60, 64, 67, 0.3), 0 1px 3px 1px rgba(60, 64, 67, 0.15);\n",
              "    fill: var(--button-hover-fill-color);\n",
              "  }\n",
              "\n",
              "  .colab-df-quickchart-complete:disabled,\n",
              "  .colab-df-quickchart-complete:disabled:hover {\n",
              "    background-color: var(--disabled-bg-color);\n",
              "    fill: var(--disabled-fill-color);\n",
              "    box-shadow: none;\n",
              "  }\n",
              "\n",
              "  .colab-df-spinner {\n",
              "    border: 2px solid var(--fill-color);\n",
              "    border-color: transparent;\n",
              "    border-bottom-color: var(--fill-color);\n",
              "    animation:\n",
              "      spin 1s steps(1) infinite;\n",
              "  }\n",
              "\n",
              "  @keyframes spin {\n",
              "    0% {\n",
              "      border-color: transparent;\n",
              "      border-bottom-color: var(--fill-color);\n",
              "      border-left-color: var(--fill-color);\n",
              "    }\n",
              "    20% {\n",
              "      border-color: transparent;\n",
              "      border-left-color: var(--fill-color);\n",
              "      border-top-color: var(--fill-color);\n",
              "    }\n",
              "    30% {\n",
              "      border-color: transparent;\n",
              "      border-left-color: var(--fill-color);\n",
              "      border-top-color: var(--fill-color);\n",
              "      border-right-color: var(--fill-color);\n",
              "    }\n",
              "    40% {\n",
              "      border-color: transparent;\n",
              "      border-right-color: var(--fill-color);\n",
              "      border-top-color: var(--fill-color);\n",
              "    }\n",
              "    60% {\n",
              "      border-color: transparent;\n",
              "      border-right-color: var(--fill-color);\n",
              "    }\n",
              "    80% {\n",
              "      border-color: transparent;\n",
              "      border-right-color: var(--fill-color);\n",
              "      border-bottom-color: var(--fill-color);\n",
              "    }\n",
              "    90% {\n",
              "      border-color: transparent;\n",
              "      border-bottom-color: var(--fill-color);\n",
              "    }\n",
              "  }\n",
              "</style>\n",
              "\n",
              "  <script>\n",
              "    async function quickchart(key) {\n",
              "      const quickchartButtonEl =\n",
              "        document.querySelector('#' + key + ' button');\n",
              "      quickchartButtonEl.disabled = true;  // To prevent multiple clicks.\n",
              "      quickchartButtonEl.classList.add('colab-df-spinner');\n",
              "      try {\n",
              "        const charts = await google.colab.kernel.invokeFunction(\n",
              "            'suggestCharts', [key], {});\n",
              "      } catch (error) {\n",
              "        console.error('Error during call to suggestCharts:', error);\n",
              "      }\n",
              "      quickchartButtonEl.classList.remove('colab-df-spinner');\n",
              "      quickchartButtonEl.classList.add('colab-df-quickchart-complete');\n",
              "    }\n",
              "    (() => {\n",
              "      let quickchartButtonEl =\n",
              "        document.querySelector('#df-92e0f83c-1a54-43b5-916d-878b6f1344a0 button');\n",
              "      quickchartButtonEl.style.display =\n",
              "        google.colab.kernel.accessAllowed ? 'block' : 'none';\n",
              "    })();\n",
              "  </script>\n",
              "</div>\n",
              "    </div>\n",
              "  </div>\n"
            ],
            "application/vnd.google.colaboratory.intrinsic+json": {
              "type": "dataframe",
              "variable_name": "df",
              "summary": "{\n  \"name\": \"df\",\n  \"rows\": 11987,\n  \"fields\": [\n    {\n      \"column\": \"labels\",\n      \"properties\": {\n        \"dtype\": \"number\",\n        \"std\": 0,\n        \"min\": 0,\n        \"max\": 1,\n        \"num_unique_values\": 2,\n        \"samples\": [\n          0,\n          1\n        ],\n        \"semantic_type\": \"\",\n        \"description\": \"\"\n      }\n    },\n    {\n      \"column\": \"review\",\n      \"properties\": {\n        \"dtype\": \"string\",\n        \"num_unique_values\": 11980,\n        \"samples\": [\n          \"\\u7279\\u5927\\u676f\\u661f\\u51b0\\u4e50\\u548c\\u5927\\u676f\\u7684\\u62ff\\u94c1\\u4e00\\u4e2a\\u676f\\u578b\\uff0c\\u4e0b\\u6b21\\u8981\\u5f53\\u9762\\u786e\\u8ba4\\uff01\",\n          \"\\u4e2d\\u5348\\u5fd9\\u9001\\u9910\\u6162\\u53ef\\u4ee5\\u7406\\u89e3\\uff0c\\u5473\\u9053\\u4e00\\u822c\\u4e5f\\u53ef\\u4ee5\\u7406\\u89e3\\uff0c\\u4f46\\u7ca5\\u91cc\\u9762\\u957f\\u957f\\u7684\\u94a2\\u4e1d\\u7b97\\u600e\\u4e48\\u56de\\u4e8b\\uff1f\"\n        ],\n        \"semantic_type\": \"\",\n        \"description\": \"\"\n      }\n    }\n  ]\n}"
            }
          },
          "metadata": {},
          "execution_count": 6
        }
      ]
    },
    {
      "source": [
        "# @title label\n",
        "from matplotlib import pyplot as plt\n",
        "df['labels'].plot(kind='hist', bins=3, title='labels')\n",
        "plt.gca().spines[['top', 'right',]].set_visible(False)"
      ],
      "cell_type": "code",
      "execution_count": 7,
      "outputs": [
        {
          "output_type": "display_data",
          "data": {
            "text/plain": [
              "<Figure size 640x480 with 1 Axes>"
            ],
            "image/png": "[encoded data removed]"
          },
          "metadata": {}
        }
      ],
      "metadata": {
        "colab": {
          "base_uri": "https://localhost:8080/",
          "height": 452
        },
        "id": "CozesKFc00VC",
        "outputId": "94a14460-b75a-4ac2-a37b-ebbcb3eebcee"
      }
    },
    {
      "source": [
        "df['len'] = df['review'].apply(len)\n",
        "df['len'].describe()"
      ],
      "cell_type": "code",
      "execution_count": 8,
      "outputs": [
        {
          "output_type": "execute_result",
          "data": {
            "text/plain": [
              "count    11987.000000\n",
              "mean        25.048553\n",
              "std         24.680028\n",
              "min          5.000000\n",
              "25%         11.000000\n",
              "50%         17.000000\n",
              "75%         30.000000\n",
              "max        463.000000\n",
              "Name: len, dtype: float64"
            ]
          },
          "metadata": {},
          "execution_count": 8
        }
      ],
      "metadata": {
        "colab": {
          "base_uri": "https://localhost:8080/"
        },
        "id": "-bQbePFP0wqa",
        "outputId": "2bf2c9c7-9989-4300-b13b-6795a6b18297"
      }
    },
    {
      "cell_type": "markdown",
      "source": [
        "平均长度25.05， 中位数17， 上四分位30，最大463\n",
        "取最大长度50截断"
      ],
      "metadata": {
        "id": "owM18o1n366J"
      }
    },
    {
      "cell_type": "code",
      "source": [
        "df['len'].plot(kind='hist', bins=20, title='review len')\n",
        "plt.gca().spines[['top', 'right',]].set_visible(False)"
      ],
      "metadata": {
        "colab": {
          "base_uri": "https://localhost:8080/",
          "height": 452
        },
        "id": "B25gIvM81XrV",
        "outputId": "e942a501-5d36-4bda-910e-79ebcd0d6c9f"
      },
      "execution_count": 9,
      "outputs": [
        {
          "output_type": "display_data",
          "data": {
            "text/plain": [
              "<Figure size 640x480 with 1 Axes>"
            ],
            "image/png": "[encoded data removed]"
          },
          "metadata": {}
        }
      ]
    },
    {
      "cell_type": "code",
      "execution_count": 10,
      "metadata": {
        "colab": {
          "base_uri": "https://localhost:8080/"
        },
        "id": "-UTFi_9glkCZ",
        "outputId": "b75a06e7-c83d-42c6-f70e-c1fed28a65a8"
      },
      "outputs": [
        {
          "output_type": "execute_result",
          "data": {
            "text/plain": [
              "10                量大，好吃，每次点的都够吃两次\n",
              "11                     挺辣的，吃着还可以吧\n",
              "12                    味道好，送餐快，分量足\n",
              "13                     量足，好吃，送餐也快\n",
              "14         特别好吃，量特大，而且送餐特别快，特别特别棒\n",
              "15                     口感好的很，速度快！\n",
              "16           相当好吃的香锅，分量够足，味道也没的说。\n",
              "17    好吃！速度！包装也有品质，不出家门就能吃到餐厅的味道！\n",
              "18                味道好极啦，送餐很快师傅辛苦啦\n",
              "19                  量大味道好，送餐师傅都很好\n",
              "Name: review, dtype: object"
            ]
          },
          "metadata": {},
          "execution_count": 10
        }
      ],
      "source": [
        "df[10:20][\"review\"]"
      ]
    },
    {
      "cell_type": "code",
      "execution_count": 11,
      "metadata": {
        "id": "djw7AyoylkCZ",
        "colab": {
          "base_uri": "https://localhost:8080/",
          "height": 470
        },
        "outputId": "40f6a40a-c4e0-4fec-bb28-3432a85511cd"
      },
      "outputs": [
        {
          "output_type": "execute_result",
          "data": {
            "text/plain": [
              "<Axes: title={'center': 'labels'}, ylabel='Frequency'>"
            ]
          },
          "metadata": {},
          "execution_count": 11
        },
        {
          "output_type": "display_data",
          "data": {
            "text/plain": [
              "<Figure size 640x480 with 1 Axes>"
            ],
            "image/png": "[encoded data removed]"
          },
          "metadata": {}
        }
      ],
      "source": [
        "neg_df = df[df['labels']==0]\n",
        "pos_df = df[df['labels']==1]\n",
        "\n",
        "pos_df = pos_df.sample(n=1000, random_state=200)  # 1000条\n",
        "neg_df = neg_df.sample(n=1000, random_state=200)  # 1000条\n",
        "df = pd.concat([neg_df, pos_df], axis=0)\n",
        "\n",
        "df['labels'].plot(kind='hist', bins=3, title='labels')"
      ]
    },
    {
      "cell_type": "code",
      "source": [
        "ds = datasets.Dataset.from_pandas(df)\n",
        "ds"
      ],
      "metadata": {
        "colab": {
          "base_uri": "https://localhost:8080/"
        },
        "id": "GMNvKNGbDmZs",
        "outputId": "0e6b910b-f83f-49b8-ada1-031d4f9b4ad5"
      },
      "execution_count": 12,
      "outputs": [
        {
          "output_type": "execute_result",
          "data": {
            "text/plain": [
              "Dataset({\n",
              "    features: ['labels', 'review', 'len', '__index_level_0__'],\n",
              "    num_rows: 2000\n",
              "})"
            ]
          },
          "metadata": {},
          "execution_count": 12
        }
      ]
    },
    {
      "cell_type": "markdown",
      "metadata": {
        "id": "OyV-3meFlkCZ"
      },
      "source": [
        "### 2，文本分词"
      ]
    },
    {
      "cell_type": "markdown",
      "metadata": {
        "id": "WN_jG2AplkCa"
      },
      "source": [
        "transformers库使用tokenizer进行文本分词。\n"
      ]
    },
    {
      "cell_type": "code",
      "execution_count": 13,
      "metadata": {
        "colab": {
          "base_uri": "https://localhost:8080/"
        },
        "id": "awY6AYmQlkCa",
        "outputId": "bc987056-df83-4637-a90b-e0c5f485cc11"
      },
      "outputs": [
        {
          "output_type": "stream",
          "name": "stderr",
          "text": [
            "/usr/local/lib/python3.10/dist-packages/huggingface_hub/utils/_token.py:88: UserWarning: \n",
            "The secret `HF_TOKEN` does not exist in your Colab secrets.\n",
            "To authenticate with the Hugging Face Hub, create a token in your settings tab (https://huggingface.co/settings/tokens), set it as secret in your Google Colab and restart your session.\n",
            "You will be able to reuse this secret in all of your notebooks.\n",
            "Please note that authentication is recommended but still optional to access public models or datasets.\n",
            "  warnings.warn(\n"
          ]
        },
        {
          "output_type": "stream",
          "name": "stdout",
          "text": [
            "BertTokenizerFast(name_or_path='hfl/chinese-roberta-wwm-ext-large', vocab_size=21128, model_max_length=1000000000000000019884624838656, is_fast=True, padding_side='right', truncation_side='right', special_tokens={'unk_token': '[UNK]', 'sep_token': '[SEP]', 'pad_token': '[PAD]', 'cls_token': '[CLS]', 'mask_token': '[MASK]'}, clean_up_tokenization_spaces=True),  added_tokens_decoder={\n",
            "\t0: AddedToken(\"[PAD]\", rstrip=False, lstrip=False, single_word=False, normalized=False, special=True),\n",
            "\t100: AddedToken(\"[UNK]\", rstrip=False, lstrip=False, single_word=False, normalized=False, special=True),\n",
            "\t101: AddedToken(\"[CLS]\", rstrip=False, lstrip=False, single_word=False, normalized=False, special=True),\n",
            "\t102: AddedToken(\"[SEP]\", rstrip=False, lstrip=False, single_word=False, normalized=False, special=True),\n",
            "\t103: AddedToken(\"[MASK]\", rstrip=False, lstrip=False, single_word=False, normalized=False, special=True),\n",
            "}\n"
          ]
        }
      ],
      "source": [
        "from transformers import AutoTokenizer #BertTokenizer\n",
        "\n",
        "model_id = \"hfl/chinese-roberta-wwm-ext-large\"\n",
        "tokenizer = AutoTokenizer.from_pretrained(model_id) #需要和模型一致\n",
        "print(tokenizer)"
      ]
    },
    {
      "cell_type": "code",
      "execution_count": 22,
      "metadata": {
        "colab": {
          "base_uri": "https://localhost:8080/"
        },
        "id": "gpu0POc6lkCa",
        "outputId": "998d0c63-84d1-4dd9-86d2-ceb160be5ea7"
      },
      "outputs": [
        {
          "output_type": "stream",
          "name": "stdout",
          "text": [
            "一定不要点炒面,2小时终于坨成了石头\n",
            "{'input_ids': [101, 671, 2137, 679, 6206, 4157, 4143, 7481, 117, 123, 2207, 3198, 5303, 754, 1789, 2768, 749, 4767, 1928, 102], 'token_type_ids': [0, 0, 0, 0, 0, 0, 0, 0, 0, 0, 0, 0, 0, 0, 0, 0, 0, 0, 0, 0], 'attention_mask': [1, 1, 1, 1, 1, 1, 1, 1, 1, 1, 1, 1, 1, 1, 1, 1, 1, 1, 1, 1]}\n"
          ]
        }
      ],
      "source": [
        "#tokenizer可以使用 __call__,encode,encode_plus,batch_encode_plus等方法编码\n",
        "#可以使用decode,batch_decode等方法进行解码\n",
        "sample_txt = ds['review'][0]\n",
        "print(sample_txt)\n",
        "text_codes = tokenizer(text=sample_txt,\n",
        "                       text_pair = None,\n",
        "                       max_length = 100,\n",
        "                       truncation = True,\n",
        "                       padding= 'do_not_pad') #可选'longest','max_length','do_not_pad'\n",
        "\n",
        "#input_ids是编码后的数字，token_type_ids表示来自第1个句子还是第2个句子\n",
        "#attention_mask在padding的位置是0其它位置是1\n",
        "print(text_codes)"
      ]
    },
    {
      "cell_type": "code",
      "execution_count": 15,
      "metadata": {
        "colab": {
          "base_uri": "https://localhost:8080/"
        },
        "id": "2OsblOwqlkCb",
        "outputId": "303ceb9a-ba2f-4cc6-821d-6d3c11def24d"
      },
      "outputs": [
        {
          "output_type": "stream",
          "name": "stdout",
          "text": [
            "[CLS]\n",
            "[SEP]\n"
          ]
        }
      ],
      "source": [
        "print(tokenizer.decode(text_codes[\"input_ids\"][0]))\n",
        "print(tokenizer.decode(text_codes[\"input_ids\"][-1]))"
      ]
    },
    {
      "cell_type": "code",
      "execution_count": 24,
      "metadata": {
        "colab": {
          "base_uri": "https://localhost:8080/"
        },
        "id": "b68ZLNtmlkCb",
        "outputId": "01a42a41-6088-4ca8-8f7d-f5ce28257e48"
      },
      "outputs": [
        {
          "output_type": "execute_result",
          "data": {
            "text/plain": [
              "['[CLS]',\n",
              " '一',\n",
              " '定',\n",
              " '不',\n",
              " '要',\n",
              " '点',\n",
              " '炒',\n",
              " '面',\n",
              " ',',\n",
              " '2',\n",
              " '小',\n",
              " '时',\n",
              " '终',\n",
              " '于',\n",
              " '坨',\n",
              " '成',\n",
              " '了',\n",
              " '石',\n",
              " '头',\n",
              " '[SEP]']"
            ]
          },
          "metadata": {},
          "execution_count": 24
        }
      ],
      "source": [
        "tokenizer.batch_decode(text_codes[\"input_ids\"])"
      ]
    },
    {
      "cell_type": "code",
      "execution_count": 25,
      "metadata": {
        "colab": {
          "base_uri": "https://localhost:8080/"
        },
        "id": "IxBjSucUlkCb",
        "outputId": "13724e86-7b95-4e7b-d181-68697de19f7f"
      },
      "outputs": [
        {
          "output_type": "stream",
          "name": "stdout",
          "text": [
            "tokens= ['一', '定', '不', '要', '点', '炒', '面', ',', '2', '小', '时', '终', '于', '坨', '成', '了', '石', '头']\n",
            "ids =  [671, 2137, 679, 6206, 4157, 4143, 7481, 117, 123, 2207, 3198, 5303, 754, 1789, 2768, 749, 4767, 1928]\n"
          ]
        }
      ],
      "source": [
        "tokens = tokenizer.tokenize(sample_txt)\n",
        "print(\"tokens=\",tokens)\n",
        "\n",
        "ids = tokenizer.convert_tokens_to_ids(tokens)\n",
        "print(\"ids = \",ids)"
      ]
    },
    {
      "cell_type": "markdown",
      "metadata": {
        "id": "1_Rwy7CKlkCc"
      },
      "source": [
        "### 3，传入DataLoader"
      ]
    },
    {
      "cell_type": "code",
      "execution_count": 26,
      "metadata": {
        "colab": {
          "base_uri": "https://localhost:8080/",
          "height": 49,
          "referenced_widgets": [
            "5e17e92f944c4baba8f833dc39536f8f",
            "b118110b6c1a4e35a19e8e4f7e4aa66e",
            "14905759328a47d0a32f94344c741a5a",
            "23471a88434642798422fb3dd147e8ed",
            "32f6f165951b433082b30d795f7d8c98",
            "6902740078df4375bc31a6fc630cbd7e",
            "34c652c518f84dc18a7444b4ed6c4fee",
            "a9a9f8db1b804941b88ee1987bd6f4c6",
            "0a6e5118777348eea83ad7c38cf9fe29",
            "f923393b93554bc48360f415004f8560",
            "3731ccc31e1a4349b52c2a6c4a91e0a8"
          ]
        },
        "id": "CG6Ei4PllkCc",
        "outputId": "7c6485f2-689d-4637-e746-b6aa665006e0"
      },
      "outputs": [
        {
          "output_type": "display_data",
          "data": {
            "text/plain": [
              "Map (num_proc=4):   0%|          | 0/2000 [00:00<?, ? examples/s]"
            ],
            "application/vnd.jupyter.widget-view+json": {
              "version_major": 2,
              "version_minor": 0,
              "model_id": "5e17e92f944c4baba8f833dc39536f8f"
            }
          },
          "metadata": {}
        }
      ],
      "source": [
        "# 进行批量Tokenize\n",
        "ds_encoded = ds.map(lambda x:tokenizer(x[\"review\"], max_length=50, truncation=True, padding='max_length'),\n",
        "                    batched=True,\n",
        "                    batch_size=16,\n",
        "                    num_proc=4) #支持批处理和多进程map"
      ]
    },
    {
      "cell_type": "code",
      "execution_count": 27,
      "metadata": {
        "colab": {
          "base_uri": "https://localhost:8080/"
        },
        "id": "2BoB4p7IlkCc",
        "outputId": "25d3cb77-6be7-451e-b353-a27321efe643"
      },
      "outputs": [
        {
          "output_type": "execute_result",
          "data": {
            "text/plain": [
              "{'labels': tensor(0),\n",
              " 'input_ids': tensor([ 101,  671, 2137,  679, 6206, 4157, 4143, 7481,  117,  123, 2207, 3198,\n",
              "         5303,  754, 1789, 2768,  749, 4767, 1928,  102,    0,    0,    0,    0,\n",
              "            0,    0,    0,    0,    0,    0,    0,    0,    0,    0,    0,    0,\n",
              "            0,    0,    0,    0,    0,    0,    0,    0,    0,    0,    0,    0,\n",
              "            0,    0]),\n",
              " 'token_type_ids': tensor([0, 0, 0, 0, 0, 0, 0, 0, 0, 0, 0, 0, 0, 0, 0, 0, 0, 0, 0, 0, 0, 0, 0, 0,\n",
              "         0, 0, 0, 0, 0, 0, 0, 0, 0, 0, 0, 0, 0, 0, 0, 0, 0, 0, 0, 0, 0, 0, 0, 0,\n",
              "         0, 0]),\n",
              " 'attention_mask': tensor([1, 1, 1, 1, 1, 1, 1, 1, 1, 1, 1, 1, 1, 1, 1, 1, 1, 1, 1, 1, 0, 0, 0, 0,\n",
              "         0, 0, 0, 0, 0, 0, 0, 0, 0, 0, 0, 0, 0, 0, 0, 0, 0, 0, 0, 0, 0, 0, 0, 0,\n",
              "         0, 0])}"
            ]
          },
          "metadata": {},
          "execution_count": 27
        }
      ],
      "source": [
        "#转换成pytorch中的tensor\n",
        "ds_encoded.set_format(type=\"torch\",\n",
        "           columns = [\"input_ids\",'attention_mask','token_type_ids','labels'])\n",
        "\n",
        "#ds_encoded.reset_format()\n",
        "ds_encoded[0]"
      ]
    },
    {
      "cell_type": "code",
      "execution_count": 28,
      "metadata": {
        "id": "-X7XA4PqlkCc",
        "colab": {
          "base_uri": "https://localhost:8080/"
        },
        "outputId": "abac576a-d7c3-4117-fa2f-0ac62917a540"
      },
      "outputs": [
        {
          "output_type": "stream",
          "name": "stdout",
          "text": [
            "Dataset({\n",
            "    features: ['labels', 'review', 'len', '__index_level_0__', 'input_ids', 'token_type_ids', 'attention_mask'],\n",
            "    num_rows: 1280\n",
            "}) Dataset({\n",
            "    features: ['labels', 'review', 'len', '__index_level_0__', 'input_ids', 'token_type_ids', 'attention_mask'],\n",
            "    num_rows: 320\n",
            "}) Dataset({\n",
            "    features: ['labels', 'review', 'len', '__index_level_0__', 'input_ids', 'token_type_ids', 'attention_mask'],\n",
            "    num_rows: 400\n",
            "})\n"
          ]
        }
      ],
      "source": [
        "#分割成训练集和测试集\n",
        "ds_train_val, ds_test = ds_encoded.train_test_split(test_size=0.2).values()\n",
        "ds_train, ds_val = ds_train_val.train_test_split(test_size=0.2).values()\n",
        "\n",
        "print(ds_train, ds_val, ds_test)"
      ]
    },
    {
      "cell_type": "code",
      "execution_count": 30,
      "metadata": {
        "id": "H5PMwHTTlkCc"
      },
      "outputs": [],
      "source": [
        "#在collate_fn中可以做动态批处理(dynamic batching)\n",
        "def collate_fn(examples):\n",
        "    return tokenizer.pad(examples) #return_tensors='pt'\n",
        "\n",
        "#以下方式等价\n",
        "#from transformers import DataCollatorWithPadding\n",
        "#collate_fn = DataCollatorWithPadding(tokenizer=tokenizer)\n",
        "\n",
        "batch_size = 32\n",
        "dl_train = torch.utils.data.DataLoader(ds_train, batch_size=batch_size, collate_fn = collate_fn)\n",
        "dl_val = torch.utils.data.DataLoader(ds_val, batch_size=batch_size,  collate_fn = collate_fn)\n",
        "dl_test = torch.utils.data.DataLoader(ds_test, batch_size=batch_size,  collate_fn = collate_fn)"
      ]
    },
    {
      "cell_type": "code",
      "execution_count": 32,
      "metadata": {
        "colab": {
          "base_uri": "https://localhost:8080/"
        },
        "id": "e068uKxHlkCd",
        "outputId": "219c389c-2e8d-47bb-ee55-6864a0f23eb2"
      },
      "outputs": [
        {
          "output_type": "stream",
          "name": "stdout",
          "text": [
            "{'labels': tensor([1, 0, 1, 1, 1, 0, 1, 1, 1, 0, 1, 0, 0, 0, 1, 0, 0, 1, 0, 1, 0, 0, 0, 0,\n",
            "        0, 1, 0, 0, 1, 0, 0, 1]), 'input_ids': tensor([[ 101, 4343, 5489,  ...,    0,    0,    0],\n",
            "        [ 101, 3739, 6963,  ...,    0,    0,    0],\n",
            "        [ 101, 7883, 5597,  ...,    0,    0,    0],\n",
            "        ...,\n",
            "        [ 101, 4636, 2428,  ...,  679,  671,  102],\n",
            "        [ 101,  671,  819,  ...,    0,    0,    0],\n",
            "        [ 101, 1348, 2563,  ...,    0,    0,    0]]), 'token_type_ids': tensor([[0, 0, 0,  ..., 0, 0, 0],\n",
            "        [0, 0, 0,  ..., 0, 0, 0],\n",
            "        [0, 0, 0,  ..., 0, 0, 0],\n",
            "        ...,\n",
            "        [0, 0, 0,  ..., 0, 0, 0],\n",
            "        [0, 0, 0,  ..., 0, 0, 0],\n",
            "        [0, 0, 0,  ..., 0, 0, 0]]), 'attention_mask': tensor([[1, 1, 1,  ..., 0, 0, 0],\n",
            "        [1, 1, 1,  ..., 0, 0, 0],\n",
            "        [1, 1, 1,  ..., 0, 0, 0],\n",
            "        ...,\n",
            "        [1, 1, 1,  ..., 1, 1, 1],\n",
            "        [1, 1, 1,  ..., 0, 0, 0],\n",
            "        [1, 1, 1,  ..., 0, 0, 0]])}\n"
          ]
        }
      ],
      "source": [
        "for batch in dl_train:\n",
        "  print(batch)\n",
        "  break"
      ]
    },
    {
      "cell_type": "markdown",
      "metadata": {
        "id": "mGZ7N4YAlkCd"
      },
      "source": [
        "## 二，定义模型"
      ]
    },
    {
      "cell_type": "markdown",
      "metadata": {
        "id": "9Vn9hIyRlkCd"
      },
      "source": [
        "一个完整的模型(Model)包括模型架构(Architecture)和模型权重(Checkpoints/Weights)。\n",
        "\n",
        "transformers提供了3种指定模型架构的方法。\n",
        "\n",
        "* 第1种是指定模型架构(如: from transformers import BertModel)\n",
        "\n",
        "* 第2种是自动推断模型架构(如: from transformers import AutoModel)\n",
        "\n",
        "* 第3种是自动推断模型架构并自动添加Head (如: from transformers import AutoModelForSequenceClassification )\n",
        "\n",
        "第1种方案和第2种方案用户可以灵活地根据自己要做的任务设计Head，并且需要对基础模型有一定的了解。\n",
        "\n",
        "\n",
        "此处我们使用第3种方案。\n"
      ]
    },
    {
      "cell_type": "code",
      "execution_count": 33,
      "metadata": {
        "colab": {
          "base_uri": "https://localhost:8080/"
        },
        "id": "X4IwVlsNlkCe",
        "outputId": "3c60830f-244b-4026-d4ba-f6e0cf889b3b"
      },
      "outputs": [
        {
          "output_type": "stream",
          "name": "stderr",
          "text": [
            "Some weights of BertForSequenceClassification were not initialized from the model checkpoint at hfl/chinese-roberta-wwm-ext-large and are newly initialized: ['classifier.bias', 'classifier.weight']\n",
            "You should probably TRAIN this model on a down-stream task to be able to use it for predictions and inference.\n"
          ]
        },
        {
          "output_type": "execute_result",
          "data": {
            "text/plain": [
              "dict_keys(['bert', 'dropout', 'classifier'])"
            ]
          },
          "metadata": {},
          "execution_count": 33
        }
      ],
      "source": [
        "from transformers import AutoModelForSequenceClassification\n",
        "\n",
        "#加载模型 (会添加针对特定任务类型的Head)\n",
        "model = AutoModelForSequenceClassification.from_pretrained(model_id, num_labels=2)\n",
        "\n",
        "dict(model.named_children()).keys()"
      ]
    },
    {
      "cell_type": "code",
      "source": [
        "model"
      ],
      "metadata": {
        "colab": {
          "base_uri": "https://localhost:8080/"
        },
        "id": "L62FcYsA43EG",
        "outputId": "7d0ea800-1f16-472c-c811-0893036e0d35"
      },
      "execution_count": 34,
      "outputs": [
        {
          "output_type": "execute_result",
          "data": {
            "text/plain": [
              "BertForSequenceClassification(\n",
              "  (bert): BertModel(\n",
              "    (embeddings): BertEmbeddings(\n",
              "      (word_embeddings): Embedding(21128, 1024, padding_idx=0)\n",
              "      (position_embeddings): Embedding(512, 1024)\n",
              "      (token_type_embeddings): Embedding(2, 1024)\n",
              "      (LayerNorm): LayerNorm((1024,), eps=1e-12, elementwise_affine=True)\n",
              "      (dropout): Dropout(p=0.1, inplace=False)\n",
              "    )\n",
              "    (encoder): BertEncoder(\n",
              "      (layer): ModuleList(\n",
              "        (0-23): 24 x BertLayer(\n",
              "          (attention): BertAttention(\n",
              "            (self): BertSelfAttention(\n",
              "              (query): Linear(in_features=1024, out_features=1024, bias=True)\n",
              "              (key): Linear(in_features=1024, out_features=1024, bias=True)\n",
              "              (value): Linear(in_features=1024, out_features=1024, bias=True)\n",
              "              (dropout): Dropout(p=0.1, inplace=False)\n",
              "            )\n",
              "            (output): BertSelfOutput(\n",
              "              (dense): Linear(in_features=1024, out_features=1024, bias=True)\n",
              "              (LayerNorm): LayerNorm((1024,), eps=1e-12, elementwise_affine=True)\n",
              "              (dropout): Dropout(p=0.1, inplace=False)\n",
              "            )\n",
              "          )\n",
              "          (intermediate): BertIntermediate(\n",
              "            (dense): Linear(in_features=1024, out_features=4096, bias=True)\n",
              "            (intermediate_act_fn): GELUActivation()\n",
              "          )\n",
              "          (output): BertOutput(\n",
              "            (dense): Linear(in_features=4096, out_features=1024, bias=True)\n",
              "            (LayerNorm): LayerNorm((1024,), eps=1e-12, elementwise_affine=True)\n",
              "            (dropout): Dropout(p=0.1, inplace=False)\n",
              "          )\n",
              "        )\n",
              "      )\n",
              "    )\n",
              "    (pooler): BertPooler(\n",
              "      (dense): Linear(in_features=1024, out_features=1024, bias=True)\n",
              "      (activation): Tanh()\n",
              "    )\n",
              "  )\n",
              "  (dropout): Dropout(p=0.1, inplace=False)\n",
              "  (classifier): Linear(in_features=1024, out_features=2, bias=True)\n",
              ")"
            ]
          },
          "metadata": {},
          "execution_count": 34
        }
      ]
    },
    {
      "cell_type": "code",
      "source": [
        "device = 'cuda' if torch.cuda.is_available() else 'cpu'\n",
        "device"
      ],
      "metadata": {
        "colab": {
          "base_uri": "https://localhost:8080/",
          "height": 35
        },
        "id": "NFr4Tg91FdOj",
        "outputId": "81d81560-a639-42c1-b89c-8d284f953ff7"
      },
      "execution_count": 35,
      "outputs": [
        {
          "output_type": "execute_result",
          "data": {
            "text/plain": [
              "'cuda'"
            ],
            "application/vnd.google.colaboratory.intrinsic+json": {
              "type": "string"
            }
          },
          "metadata": {},
          "execution_count": 35
        }
      ]
    },
    {
      "cell_type": "markdown",
      "metadata": {
        "id": "ULn1JyQulkCe"
      },
      "source": [
        "我们可以用一个batch的数据去试算一下"
      ]
    },
    {
      "cell_type": "code",
      "execution_count": 37,
      "metadata": {
        "id": "Db3PO-melkCe"
      },
      "outputs": [],
      "source": [
        "model = model.to(device)\n",
        "output = model(**batch.to(device))"
      ]
    },
    {
      "cell_type": "code",
      "execution_count": 38,
      "metadata": {
        "colab": {
          "base_uri": "https://localhost:8080/"
        },
        "id": "bBy4l-XjlkCe",
        "outputId": "a30d48ba-03be-486b-d1ce-64d42bcfd5f6"
      },
      "outputs": [
        {
          "output_type": "execute_result",
          "data": {
            "text/plain": [
              "tensor(0.6930, device='cuda:0', grad_fn=<NllLossBackward0>)"
            ]
          },
          "metadata": {},
          "execution_count": 38
        }
      ],
      "source": [
        "output.loss"
      ]
    },
    {
      "cell_type": "code",
      "execution_count": 39,
      "metadata": {
        "id": "A_HjBtpVlkCf",
        "colab": {
          "base_uri": "https://localhost:8080/"
        },
        "outputId": "b14b0bc7-6a5f-49cb-8f0b-565397e5f314"
      },
      "outputs": [
        {
          "output_type": "execute_result",
          "data": {
            "text/plain": [
              "SequenceClassifierOutput(loss=tensor(0.6930, device='cuda:0', grad_fn=<NllLossBackward0>), logits=tensor([[ 0.2274,  0.0879],\n",
              "        [ 0.2534, -0.0826],\n",
              "        [ 0.2366,  0.1563],\n",
              "        [ 0.3862,  0.0725],\n",
              "        [ 0.1837,  0.1254],\n",
              "        [ 0.2206, -0.1636],\n",
              "        [ 0.3930,  0.0513],\n",
              "        [ 0.3388, -0.1072],\n",
              "        [ 0.2994, -0.0508],\n",
              "        [ 0.2531, -0.0265],\n",
              "        [ 0.4523,  0.0403],\n",
              "        [ 0.2359,  0.1121],\n",
              "        [ 0.4592, -0.0588],\n",
              "        [ 0.2201, -0.0724],\n",
              "        [ 0.2708,  0.1066],\n",
              "        [ 0.3107, -0.0762],\n",
              "        [ 0.1405,  0.1901],\n",
              "        [ 0.2418,  0.0127],\n",
              "        [ 0.2504,  0.1760],\n",
              "        [ 0.3721,  0.2222],\n",
              "        [ 0.2607, -0.0076],\n",
              "        [ 0.3155,  0.0731],\n",
              "        [ 0.1676,  0.0458],\n",
              "        [ 0.1966, -0.1905],\n",
              "        [ 0.2911,  0.1291],\n",
              "        [ 0.2567,  0.1316],\n",
              "        [ 0.3107,  0.0167],\n",
              "        [ 0.2838,  0.0387],\n",
              "        [ 0.4149,  0.0059],\n",
              "        [ 0.1522,  0.0682],\n",
              "        [ 0.2589,  0.1399],\n",
              "        [ 0.1181, -0.2881]], device='cuda:0', grad_fn=<AddmmBackward0>), hidden_states=None, attentions=None)"
            ]
          },
          "metadata": {},
          "execution_count": 39
        }
      ],
      "source": [
        "output"
      ]
    },
    {
      "cell_type": "markdown",
      "metadata": {
        "id": "cSDboKVIlkCf"
      },
      "source": [
        "## 三，训练模型"
      ]
    },
    {
      "cell_type": "code",
      "source": [
        "!pip install accelerate"
      ],
      "metadata": {
        "id": "i_9WP02e5R0T"
      },
      "execution_count": null,
      "outputs": []
    },
    {
      "cell_type": "markdown",
      "metadata": {
        "id": "20vuo5OQlkCf"
      },
      "source": [
        "下面使用我们的梦中情炉 torchkeras 来实现最优雅的微调训练循环。🤗🤗\n",
        "\n"
      ]
    },
    {
      "cell_type": "code",
      "execution_count": 40,
      "metadata": {
        "id": "Lc70XraplkCf"
      },
      "outputs": [],
      "source": [
        "from torchkeras import KerasModel\n",
        "\n",
        "#我们需要修改StepRunner以适应transformers的数据集格式\n",
        "\n",
        "class StepRunner:\n",
        "    def __init__(self, net, loss_fn, accelerator, stage = \"train\", metrics_dict = None,\n",
        "                 optimizer = None, lr_scheduler = None\n",
        "                 ):\n",
        "        self.net,self.loss_fn,self.metrics_dict,self.stage = net,loss_fn,metrics_dict,stage\n",
        "        self.optimizer,self.lr_scheduler = optimizer,lr_scheduler\n",
        "        self.accelerator = accelerator\n",
        "        if self.stage=='train':\n",
        "            self.net.train()\n",
        "        else:\n",
        "            self.net.eval()\n",
        "\n",
        "    def __call__(self, batch):\n",
        "\n",
        "        out = self.net(**batch.to(device))\n",
        "\n",
        "        #loss\n",
        "        loss = out.loss\n",
        "\n",
        "        #preds\n",
        "        preds =(out.logits).argmax(axis=1)\n",
        "\n",
        "        #backward()\n",
        "        if self.optimizer is not None and self.stage==\"train\":\n",
        "            self.accelerator.backward(loss)\n",
        "            self.optimizer.step()\n",
        "            if self.lr_scheduler is not None:\n",
        "                self.lr_scheduler.step()\n",
        "            self.optimizer.zero_grad()\n",
        "\n",
        "        all_loss = self.accelerator.gather(loss).sum()\n",
        "\n",
        "        labels = batch['labels']\n",
        "        acc = (preds==labels).sum()/((labels>-1).sum())\n",
        "\n",
        "        all_acc = self.accelerator.gather(acc).mean()\n",
        "\n",
        "        #losses\n",
        "        step_losses = {self.stage+\"_loss\":all_loss.item(), self.stage+'_acc':all_acc.item()}\n",
        "\n",
        "        #metrics\n",
        "        step_metrics = {}\n",
        "\n",
        "        if self.stage==\"train\":\n",
        "            if self.optimizer is not None:\n",
        "                step_metrics['lr'] = self.optimizer.state_dict()['param_groups'][0]['lr']\n",
        "            else:\n",
        "                step_metrics['lr'] = 0.0\n",
        "        return step_losses,step_metrics\n",
        "\n",
        "KerasModel.StepRunner = StepRunner"
      ]
    },
    {
      "cell_type": "code",
      "execution_count": 41,
      "metadata": {
        "id": "yF4BoqZHlkCg"
      },
      "outputs": [],
      "source": [
        "model = model.to(device)\n",
        "\n",
        "optimizer = torch.optim.AdamW(model.parameters(), lr=3e-5)\n",
        "keras_model = KerasModel(model,loss_fn=None,optimizer = optimizer)"
      ]
    },
    {
      "cell_type": "code",
      "execution_count": 42,
      "metadata": {
        "colab": {
          "base_uri": "https://localhost:8080/",
          "height": 973
        },
        "id": "jaydv06LlkCh",
        "outputId": "c668cebe-7bcb-4dd3-8b06-19c0afaac13f"
      },
      "outputs": [
        {
          "output_type": "stream",
          "name": "stdout",
          "text": [
            "\u001b[0;31m<<<<<< ⚡️ cuda is used >>>>>>\u001b[0m\n"
          ]
        },
        {
          "output_type": "display_data",
          "data": {
            "text/plain": [
              "<Figure size 600x400 with 1 Axes>"
            ],
            "image/png": "[encoded data removed]"
          },
          "metadata": {}
        },
        {
          "output_type": "display_data",
          "data": {
            "text/plain": [
              "<IPython.core.display.HTML object>"
            ],
            "text/html": [
              "\n",
              "<style>\n",
              "    /* background: */\n",
              "    progress::-webkit-progress-bar {background-color: #CDCDCD; width: 100%;}\n",
              "    progress {background-color: #CDCDCD;}\n",
              "\n",
              "    /* value: */\n",
              "    progress::-webkit-progress-value {background-color: #00BFFF  !important;}\n",
              "    progress::-moz-progress-bar {background-color: #00BFFF  !important;}\n",
              "    progress {color: #00BFFF ;}\n",
              "\n",
              "    /* optional */\n",
              "    .progress-bar-interrupted, .progress-bar-interrupted::-webkit-progress-bar {\n",
              "        background: #000000;\n",
              "    }\n",
              "</style>\n"
            ]
          },
          "metadata": {}
        },
        {
          "output_type": "display_data",
          "data": {
            "text/plain": [
              "<IPython.core.display.HTML object>"
            ],
            "text/html": [
              "\n",
              "    <div>\n",
              "      <progress value='14' class='progress-bar-interrupted' max='20' style='width:300px; height:20px; vertical-align: middle;'></progress>\n",
              "      70.00% [14/20] [09:34<04:06]\n",
              "      <br>\n",
              "      ████████████████████100.00% [10/10] [val_loss=0.7394, val_acc=0.8719]\n",
              "    </div>\n",
              "    "
            ]
          },
          "metadata": {}
        },
        {
          "output_type": "stream",
          "name": "stdout",
          "text": [
            "\u001b[0;31m<<<<<< val_acc without improvement in 10 epoch,early stopping >>>>>> \n",
            "\u001b[0m\n"
          ]
        },
        {
          "output_type": "execute_result",
          "data": {
            "text/plain": [
              "    epoch  train_loss  train_acc       lr  val_loss   val_acc\n",
              "0       1    0.400042   0.815625  0.00003  0.298466  0.878125\n",
              "1       2    0.178673   0.942187  0.00003  0.293229  0.887500\n",
              "2       3    0.079503   0.975000  0.00003  0.435754  0.875000\n",
              "3       4    0.047774   0.987500  0.00003  0.483032  0.890625\n",
              "4       5    0.030902   0.987500  0.00003  0.593966  0.856250\n",
              "5       6    0.044966   0.985938  0.00003  0.639174  0.868750\n",
              "6       7    0.044582   0.989062  0.00003  0.647959  0.859375\n",
              "7       8    0.073322   0.980469  0.00003  0.604683  0.828125\n",
              "8       9    0.040865   0.985938  0.00003  0.535952  0.884375\n",
              "9      10    0.036645   0.989844  0.00003  0.567870  0.843750\n",
              "10     11    0.014979   0.996094  0.00003  0.616570  0.875000\n",
              "11     12    0.003719   0.999219  0.00003  0.646139  0.884375\n",
              "12     13    0.000601   1.000000  0.00003  0.699452  0.881250\n",
              "13     14    0.000337   1.000000  0.00003  0.739432  0.871875"
            ],
            "text/html": [
              "\n",
              "  <div id=\"df-9ad9d0b7-43c5-4cb4-9e1f-c016c34a71a4\" class=\"colab-df-container\">\n",
              "    <div>\n",
              "<style scoped>\n",
              "    .dataframe tbody tr th:only-of-type {\n",
              "        vertical-align: middle;\n",
              "    }\n",
              "\n",
              "    .dataframe tbody tr th {\n",
              "        vertical-align: top;\n",
              "    }\n",
              "\n",
              "    .dataframe thead th {\n",
              "        text-align: right;\n",
              "    }\n",
              "</style>\n",
              "<table border=\"1\" class=\"dataframe\">\n",
              "  <thead>\n",
              "    <tr style=\"text-align: right;\">\n",
              "      <th></th>\n",
              "      <th>epoch</th>\n",
              "      <th>train_loss</th>\n",
              "      <th>train_acc</th>\n",
              "      <th>lr</th>\n",
              "      <th>val_loss</th>\n",
              "      <th>val_acc</th>\n",
              "    </tr>\n",
              "  </thead>\n",
              "  <tbody>\n",
              "    <tr>\n",
              "      <th>0</th>\n",
              "      <td>1</td>\n",
              "      <td>0.400042</td>\n",
              "      <td>0.815625</td>\n",
              "      <td>0.00003</td>\n",
              "      <td>0.298466</td>\n",
              "      <td>0.878125</td>\n",
              "    </tr>\n",
              "    <tr>\n",
              "      <th>1</th>\n",
              "      <td>2</td>\n",
              "      <td>0.178673</td>\n",
              "      <td>0.942187</td>\n",
              "      <td>0.00003</td>\n",
              "      <td>0.293229</td>\n",
              "      <td>0.887500</td>\n",
              "    </tr>\n",
              "    <tr>\n",
              "      <th>2</th>\n",
              "      <td>3</td>\n",
              "      <td>0.079503</td>\n",
              "      <td>0.975000</td>\n",
              "      <td>0.00003</td>\n",
              "      <td>0.435754</td>\n",
              "      <td>0.875000</td>\n",
              "    </tr>\n",
              "    <tr>\n",
              "      <th>3</th>\n",
              "      <td>4</td>\n",
              "      <td>0.047774</td>\n",
              "      <td>0.987500</td>\n",
              "      <td>0.00003</td>\n",
              "      <td>0.483032</td>\n",
              "      <td>0.890625</td>\n",
              "    </tr>\n",
              "    <tr>\n",
              "      <th>4</th>\n",
              "      <td>5</td>\n",
              "      <td>0.030902</td>\n",
              "      <td>0.987500</td>\n",
              "      <td>0.00003</td>\n",
              "      <td>0.593966</td>\n",
              "      <td>0.856250</td>\n",
              "    </tr>\n",
              "    <tr>\n",
              "      <th>5</th>\n",
              "      <td>6</td>\n",
              "      <td>0.044966</td>\n",
              "      <td>0.985938</td>\n",
              "      <td>0.00003</td>\n",
              "      <td>0.639174</td>\n",
              "      <td>0.868750</td>\n",
              "    </tr>\n",
              "    <tr>\n",
              "      <th>6</th>\n",
              "      <td>7</td>\n",
              "      <td>0.044582</td>\n",
              "      <td>0.989062</td>\n",
              "      <td>0.00003</td>\n",
              "      <td>0.647959</td>\n",
              "      <td>0.859375</td>\n",
              "    </tr>\n",
              "    <tr>\n",
              "      <th>7</th>\n",
              "      <td>8</td>\n",
              "      <td>0.073322</td>\n",
              "      <td>0.980469</td>\n",
              "      <td>0.00003</td>\n",
              "      <td>0.604683</td>\n",
              "      <td>0.828125</td>\n",
              "    </tr>\n",
              "    <tr>\n",
              "      <th>8</th>\n",
              "      <td>9</td>\n",
              "      <td>0.040865</td>\n",
              "      <td>0.985938</td>\n",
              "      <td>0.00003</td>\n",
              "      <td>0.535952</td>\n",
              "      <td>0.884375</td>\n",
              "    </tr>\n",
              "    <tr>\n",
              "      <th>9</th>\n",
              "      <td>10</td>\n",
              "      <td>0.036645</td>\n",
              "      <td>0.989844</td>\n",
              "      <td>0.00003</td>\n",
              "      <td>0.567870</td>\n",
              "      <td>0.843750</td>\n",
              "    </tr>\n",
              "    <tr>\n",
              "      <th>10</th>\n",
              "      <td>11</td>\n",
              "      <td>0.014979</td>\n",
              "      <td>0.996094</td>\n",
              "      <td>0.00003</td>\n",
              "      <td>0.616570</td>\n",
              "      <td>0.875000</td>\n",
              "    </tr>\n",
              "    <tr>\n",
              "      <th>11</th>\n",
              "      <td>12</td>\n",
              "      <td>0.003719</td>\n",
              "      <td>0.999219</td>\n",
              "      <td>0.00003</td>\n",
              "      <td>0.646139</td>\n",
              "      <td>0.884375</td>\n",
              "    </tr>\n",
              "    <tr>\n",
              "      <th>12</th>\n",
              "      <td>13</td>\n",
              "      <td>0.000601</td>\n",
              "      <td>1.000000</td>\n",
              "      <td>0.00003</td>\n",
              "      <td>0.699452</td>\n",
              "      <td>0.881250</td>\n",
              "    </tr>\n",
              "    <tr>\n",
              "      <th>13</th>\n",
              "      <td>14</td>\n",
              "      <td>0.000337</td>\n",
              "      <td>1.000000</td>\n",
              "      <td>0.00003</td>\n",
              "      <td>0.739432</td>\n",
              "      <td>0.871875</td>\n",
              "    </tr>\n",
              "  </tbody>\n",
              "</table>\n",
              "</div>\n",
              "    <div class=\"colab-df-buttons\">\n",
              "\n",
              "  <div class=\"colab-df-container\">\n",
              "    <button class=\"colab-df-convert\" onclick=\"convertToInteractive('df-9ad9d0b7-43c5-4cb4-9e1f-c016c34a71a4')\"\n",
              "            title=\"Convert this dataframe to an interactive table.\"\n",
              "            style=\"display:none;\">\n",
              "\n",
              "  <svg xmlns=\"http://www.w3.org/2000/svg\" height=\"24px\" viewBox=\"0 -960 960 960\">\n",
              "    <path d=\"M120-120v-720h720v720H120Zm60-500h600v-160H180v160Zm220 220h160v-160H400v160Zm0 220h160v-160H400v160ZM180-400h160v-160H180v160Zm440 0h160v-160H620v160ZM180-180h160v-160H180v160Zm440 0h160v-160H620v160Z\"/>\n",
              "  </svg>\n",
              "    </button>\n",
              "\n",
              "  <style>\n",
              "    .colab-df-container {\n",
              "      display:flex;\n",
              "      gap: 12px;\n",
              "    }\n",
              "\n",
              "    .colab-df-convert {\n",
              "      background-color: #E8F0FE;\n",
              "      border: none;\n",
              "      border-radius: 50%;\n",
              "      cursor: pointer;\n",
              "      display: none;\n",
              "      fill: #1967D2;\n",
              "      height: 32px;\n",
              "      padding: 0 0 0 0;\n",
              "      width: 32px;\n",
              "    }\n",
              "\n",
              "    .colab-df-convert:hover {\n",
              "      background-color: #E2EBFA;\n",
              "      box-shadow: 0px 1px 2px rgba(60, 64, 67, 0.3), 0px 1px 3px 1px rgba(60, 64, 67, 0.15);\n",
              "      fill: #174EA6;\n",
              "    }\n",
              "\n",
              "    .colab-df-buttons div {\n",
              "      margin-bottom: 4px;\n",
              "    }\n",
              "\n",
              "    [theme=dark] .colab-df-convert {\n",
              "      background-color: #3B4455;\n",
              "      fill: #D2E3FC;\n",
              "    }\n",
              "\n",
              "    [theme=dark] .colab-df-convert:hover {\n",
              "      background-color: #434B5C;\n",
              "      box-shadow: 0px 1px 3px 1px rgba(0, 0, 0, 0.15);\n",
              "      filter: drop-shadow(0px 1px 2px rgba(0, 0, 0, 0.3));\n",
              "      fill: #FFFFFF;\n",
              "    }\n",
              "  </style>\n",
              "\n",
              "    <script>\n",
              "      const buttonEl =\n",
              "        document.querySelector('#df-9ad9d0b7-43c5-4cb4-9e1f-c016c34a71a4 button.colab-df-convert');\n",
              "      buttonEl.style.display =\n",
              "        google.colab.kernel.accessAllowed ? 'block' : 'none';\n",
              "\n",
              "      async function convertToInteractive(key) {\n",
              "        const element = document.querySelector('#df-9ad9d0b7-43c5-4cb4-9e1f-c016c34a71a4');\n",
              "        const dataTable =\n",
              "          await google.colab.kernel.invokeFunction('convertToInteractive',\n",
              "                                                    [key], {});\n",
              "        if (!dataTable) return;\n",
              "\n",
              "        const docLinkHtml = 'Like what you see? Visit the ' +\n",
              "          '<a target=\"_blank\" href=https://colab.research.google.com/notebooks/data_table.ipynb>data table notebook</a>'\n",
              "          + ' to learn more about interactive tables.';\n",
              "        element.innerHTML = '';\n",
              "        dataTable['output_type'] = 'display_data';\n",
              "        await google.colab.output.renderOutput(dataTable, element);\n",
              "        const docLink = document.createElement('div');\n",
              "        docLink.innerHTML = docLinkHtml;\n",
              "        element.appendChild(docLink);\n",
              "      }\n",
              "    </script>\n",
              "  </div>\n",
              "\n",
              "\n",
              "<div id=\"df-a2970215-9ad7-4add-8882-8ab4fe349a85\">\n",
              "  <button class=\"colab-df-quickchart\" onclick=\"quickchart('df-a2970215-9ad7-4add-8882-8ab4fe349a85')\"\n",
              "            title=\"Suggest charts\"\n",
              "            style=\"display:none;\">\n",
              "\n",
              "<svg xmlns=\"http://www.w3.org/2000/svg\" height=\"24px\"viewBox=\"0 0 24 24\"\n",
              "     width=\"24px\">\n",
              "    <g>\n",
              "        <path d=\"M19 3H5c-1.1 0-2 .9-2 2v14c0 1.1.9 2 2 2h14c1.1 0 2-.9 2-2V5c0-1.1-.9-2-2-2zM9 17H7v-7h2v7zm4 0h-2V7h2v10zm4 0h-2v-4h2v4z\"/>\n",
              "    </g>\n",
              "</svg>\n",
              "  </button>\n",
              "\n",
              "<style>\n",
              "  .colab-df-quickchart {\n",
              "      --bg-color: #E8F0FE;\n",
              "      --fill-color: #1967D2;\n",
              "      --hover-bg-color: #E2EBFA;\n",
              "      --hover-fill-color: #174EA6;\n",
              "      --disabled-fill-color: #AAA;\n",
              "      --disabled-bg-color: #DDD;\n",
              "  }\n",
              "\n",
              "  [theme=dark] .colab-df-quickchart {\n",
              "      --bg-color: #3B4455;\n",
              "      --fill-color: #D2E3FC;\n",
              "      --hover-bg-color: #434B5C;\n",
              "      --hover-fill-color: #FFFFFF;\n",
              "      --disabled-bg-color: #3B4455;\n",
              "      --disabled-fill-color: #666;\n",
              "  }\n",
              "\n",
              "  .colab-df-quickchart {\n",
              "    background-color: var(--bg-color);\n",
              "    border: none;\n",
              "    border-radius: 50%;\n",
              "    cursor: pointer;\n",
              "    display: none;\n",
              "    fill: var(--fill-color);\n",
              "    height: 32px;\n",
              "    padding: 0;\n",
              "    width: 32px;\n",
              "  }\n",
              "\n",
              "  .colab-df-quickchart:hover {\n",
              "    background-color: var(--hover-bg-color);\n",
              "    box-shadow: 0 1px 2px rgba(60, 64, 67, 0.3), 0 1px 3px 1px rgba(60, 64, 67, 0.15);\n",
              "    fill: var(--button-hover-fill-color);\n",
              "  }\n",
              "\n",
              "  .colab-df-quickchart-complete:disabled,\n",
              "  .colab-df-quickchart-complete:disabled:hover {\n",
              "    background-color: var(--disabled-bg-color);\n",
              "    fill: var(--disabled-fill-color);\n",
              "    box-shadow: none;\n",
              "  }\n",
              "\n",
              "  .colab-df-spinner {\n",
              "    border: 2px solid var(--fill-color);\n",
              "    border-color: transparent;\n",
              "    border-bottom-color: var(--fill-color);\n",
              "    animation:\n",
              "      spin 1s steps(1) infinite;\n",
              "  }\n",
              "\n",
              "  @keyframes spin {\n",
              "    0% {\n",
              "      border-color: transparent;\n",
              "      border-bottom-color: var(--fill-color);\n",
              "      border-left-color: var(--fill-color);\n",
              "    }\n",
              "    20% {\n",
              "      border-color: transparent;\n",
              "      border-left-color: var(--fill-color);\n",
              "      border-top-color: var(--fill-color);\n",
              "    }\n",
              "    30% {\n",
              "      border-color: transparent;\n",
              "      border-left-color: var(--fill-color);\n",
              "      border-top-color: var(--fill-color);\n",
              "      border-right-color: var(--fill-color);\n",
              "    }\n",
              "    40% {\n",
              "      border-color: transparent;\n",
              "      border-right-color: var(--fill-color);\n",
              "      border-top-color: var(--fill-color);\n",
              "    }\n",
              "    60% {\n",
              "      border-color: transparent;\n",
              "      border-right-color: var(--fill-color);\n",
              "    }\n",
              "    80% {\n",
              "      border-color: transparent;\n",
              "      border-right-color: var(--fill-color);\n",
              "      border-bottom-color: var(--fill-color);\n",
              "    }\n",
              "    90% {\n",
              "      border-color: transparent;\n",
              "      border-bottom-color: var(--fill-color);\n",
              "    }\n",
              "  }\n",
              "</style>\n",
              "\n",
              "  <script>\n",
              "    async function quickchart(key) {\n",
              "      const quickchartButtonEl =\n",
              "        document.querySelector('#' + key + ' button');\n",
              "      quickchartButtonEl.disabled = true;  // To prevent multiple clicks.\n",
              "      quickchartButtonEl.classList.add('colab-df-spinner');\n",
              "      try {\n",
              "        const charts = await google.colab.kernel.invokeFunction(\n",
              "            'suggestCharts', [key], {});\n",
              "      } catch (error) {\n",
              "        console.error('Error during call to suggestCharts:', error);\n",
              "      }\n",
              "      quickchartButtonEl.classList.remove('colab-df-spinner');\n",
              "      quickchartButtonEl.classList.add('colab-df-quickchart-complete');\n",
              "    }\n",
              "    (() => {\n",
              "      let quickchartButtonEl =\n",
              "        document.querySelector('#df-a2970215-9ad7-4add-8882-8ab4fe349a85 button');\n",
              "      quickchartButtonEl.style.display =\n",
              "        google.colab.kernel.accessAllowed ? 'block' : 'none';\n",
              "    })();\n",
              "  </script>\n",
              "</div>\n",
              "    </div>\n",
              "  </div>\n"
            ],
            "application/vnd.google.colaboratory.intrinsic+json": {
              "type": "dataframe",
              "summary": "{\n  \"name\": \")\",\n  \"rows\": 14,\n  \"fields\": [\n    {\n      \"column\": \"epoch\",\n      \"properties\": {\n        \"dtype\": \"number\",\n        \"std\": 4,\n        \"min\": 1,\n        \"max\": 14,\n        \"num_unique_values\": 14,\n        \"samples\": [\n          10,\n          12,\n          1\n        ],\n        \"semantic_type\": \"\",\n        \"description\": \"\"\n      }\n    },\n    {\n      \"column\": \"train_loss\",\n      \"properties\": {\n        \"dtype\": \"number\",\n        \"std\": 0.10494132493218161,\n        \"min\": 0.00033662353343970607,\n        \"max\": 0.4000417148694396,\n        \"num_unique_values\": 14,\n        \"samples\": [\n          0.036644862263347025,\n          0.0037191421099123543,\n          0.4000417148694396\n        ],\n        \"semantic_type\": \"\",\n        \"description\": \"\"\n      }\n    },\n    {\n      \"column\": \"train_acc\",\n      \"properties\": {\n        \"dtype\": \"number\",\n        \"std\": 0.0478305198392267,\n        \"min\": 0.815625,\n        \"max\": 1.0,\n        \"num_unique_values\": 11,\n        \"samples\": [\n          0.9890625,\n          0.815625,\n          0.99921875\n        ],\n        \"semantic_type\": \"\",\n        \"description\": \"\"\n      }\n    },\n    {\n      \"column\": \"lr\",\n      \"properties\": {\n        \"dtype\": \"number\",\n        \"std\": 7.032061045426913e-21,\n        \"min\": 3e-05,\n        \"max\": 3e-05,\n        \"num_unique_values\": 1,\n        \"samples\": [\n          3e-05\n        ],\n        \"semantic_type\": \"\",\n        \"description\": \"\"\n      }\n    },\n    {\n      \"column\": \"val_loss\",\n      \"properties\": {\n        \"dtype\": \"number\",\n        \"std\": 0.13612279774108013,\n        \"min\": 0.29322877824306487,\n        \"max\": 0.7394324883818626,\n        \"num_unique_values\": 14,\n        \"samples\": [\n          0.5678697794675827\n        ],\n        \"semantic_type\": \"\",\n        \"description\": \"\"\n      }\n    },\n    {\n      \"column\": \"val_acc\",\n      \"properties\": {\n        \"dtype\": \"number\",\n        \"std\": 0.01783631168215775,\n        \"min\": 0.828125,\n        \"max\": 0.890625,\n        \"num_unique_values\": 12,\n        \"samples\": [\n          0.88125\n        ],\n        \"semantic_type\": \"\",\n        \"description\": \"\"\n      }\n    }\n  ]\n}"
            }
          },
          "metadata": {},
          "execution_count": 42
        }
      ],
      "source": [
        "keras_model.fit(\n",
        "    train_data = dl_train,\n",
        "    val_data= dl_val,\n",
        "    ckpt_path='bert_waimai.pt',\n",
        "    epochs=20,\n",
        "    patience=10,\n",
        "    monitor=\"val_acc\",\n",
        "    mode=\"max\",\n",
        "    plot = True,\n",
        "    wandb = False,\n",
        "    quiet = True\n",
        ")\n"
      ]
    },
    {
      "cell_type": "markdown",
      "metadata": {
        "id": "qnd93wyElkCh"
      },
      "source": [
        "## 四，评估模型"
      ]
    },
    {
      "cell_type": "markdown",
      "metadata": {
        "id": "LJQb0j3xlkCh"
      },
      "source": [
        "可以使用huggingFace的evaluate库来进行模型评估。\n",
        "\n",
        "通过evaluate的load方法可以加载一些常用的评估指标。\n",
        "\n",
        "可以用add_batch逐批次地往这些评估指标上添加数据，最后用compute计算评估结果。"
      ]
    },
    {
      "cell_type": "code",
      "execution_count": 43,
      "metadata": {
        "colab": {
          "base_uri": "https://localhost:8080/"
        },
        "id": "qSxYOgaglkCi",
        "outputId": "6894a5c6-365f-47c0-f6fa-5d6a3b6b0806"
      },
      "outputs": [
        {
          "output_type": "stream",
          "name": "stdout",
          "text": [
            "Collecting evaluate\n",
            "  Downloading evaluate-0.4.1-py3-none-any.whl (84 kB)\n",
            "\u001b[?25l     \u001b[90m━━━━━━━━━━━━━━━━━━━━━━━━━━━━━━━━━━━━━━━━\u001b[0m \u001b[32m0.0/84.1 kB\u001b[0m \u001b[31m?\u001b[0m eta \u001b[36m-:--:--\u001b[0m\r\u001b[2K     \u001b[90m━━━━━━━━━━━━━━━━━━━━━━━━━━━━━━━━━━━━━━━━\u001b[0m \u001b[32m84.1/84.1 kB\u001b[0m \u001b[31m3.0 MB/s\u001b[0m eta \u001b[36m0:00:00\u001b[0m\n",
            "\u001b[?25hRequirement already satisfied: datasets>=2.0.0 in /usr/local/lib/python3.10/dist-packages (from evaluate) (2.18.0)\n",
            "Requirement already satisfied: numpy>=1.17 in /usr/local/lib/python3.10/dist-packages (from evaluate) (1.25.2)\n",
            "Requirement already satisfied: dill in /usr/local/lib/python3.10/dist-packages (from evaluate) (0.3.8)\n",
            "Requirement already satisfied: pandas in /usr/local/lib/python3.10/dist-packages (from evaluate) (2.0.3)\n",
            "Requirement already satisfied: requests>=2.19.0 in /usr/local/lib/python3.10/dist-packages (from evaluate) (2.31.0)\n",
            "Requirement already satisfied: tqdm>=4.62.1 in /usr/local/lib/python3.10/dist-packages (from evaluate) (4.66.2)\n",
            "Requirement already satisfied: xxhash in /usr/local/lib/python3.10/dist-packages (from evaluate) (3.4.1)\n",
            "Requirement already satisfied: multiprocess in /usr/local/lib/python3.10/dist-packages (from evaluate) (0.70.16)\n",
            "Requirement already satisfied: fsspec[http]>=2021.05.0 in /usr/local/lib/python3.10/dist-packages (from evaluate) (2023.6.0)\n",
            "Requirement already satisfied: huggingface-hub>=0.7.0 in /usr/local/lib/python3.10/dist-packages (from evaluate) (0.20.3)\n",
            "Requirement already satisfied: packaging in /usr/local/lib/python3.10/dist-packages (from evaluate) (24.0)\n",
            "Collecting responses<0.19 (from evaluate)\n",
            "  Downloading responses-0.18.0-py3-none-any.whl (38 kB)\n",
            "Requirement already satisfied: filelock in /usr/local/lib/python3.10/dist-packages (from datasets>=2.0.0->evaluate) (3.13.3)\n",
            "Requirement already satisfied: pyarrow>=12.0.0 in /usr/local/lib/python3.10/dist-packages (from datasets>=2.0.0->evaluate) (14.0.2)\n",
            "Requirement already satisfied: pyarrow-hotfix in /usr/local/lib/python3.10/dist-packages (from datasets>=2.0.0->evaluate) (0.6)\n",
            "Requirement already satisfied: aiohttp in /usr/local/lib/python3.10/dist-packages (from datasets>=2.0.0->evaluate) (3.9.3)\n",
            "Requirement already satisfied: pyyaml>=5.1 in /usr/local/lib/python3.10/dist-packages (from datasets>=2.0.0->evaluate) (6.0.1)\n",
            "Requirement already satisfied: typing-extensions>=3.7.4.3 in /usr/local/lib/python3.10/dist-packages (from huggingface-hub>=0.7.0->evaluate) (4.10.0)\n",
            "Requirement already satisfied: charset-normalizer<4,>=2 in /usr/local/lib/python3.10/dist-packages (from requests>=2.19.0->evaluate) (3.3.2)\n",
            "Requirement already satisfied: idna<4,>=2.5 in /usr/local/lib/python3.10/dist-packages (from requests>=2.19.0->evaluate) (3.6)\n",
            "Requirement already satisfied: urllib3<3,>=1.21.1 in /usr/local/lib/python3.10/dist-packages (from requests>=2.19.0->evaluate) (2.0.7)\n",
            "Requirement already satisfied: certifi>=2017.4.17 in /usr/local/lib/python3.10/dist-packages (from requests>=2.19.0->evaluate) (2024.2.2)\n",
            "Requirement already satisfied: python-dateutil>=2.8.2 in /usr/local/lib/python3.10/dist-packages (from pandas->evaluate) (2.8.2)\n",
            "Requirement already satisfied: pytz>=2020.1 in /usr/local/lib/python3.10/dist-packages (from pandas->evaluate) (2023.4)\n",
            "Requirement already satisfied: tzdata>=2022.1 in /usr/local/lib/python3.10/dist-packages (from pandas->evaluate) (2024.1)\n",
            "Requirement already satisfied: aiosignal>=1.1.2 in /usr/local/lib/python3.10/dist-packages (from aiohttp->datasets>=2.0.0->evaluate) (1.3.1)\n",
            "Requirement already satisfied: attrs>=17.3.0 in /usr/local/lib/python3.10/dist-packages (from aiohttp->datasets>=2.0.0->evaluate) (23.2.0)\n",
            "Requirement already satisfied: frozenlist>=1.1.1 in /usr/local/lib/python3.10/dist-packages (from aiohttp->datasets>=2.0.0->evaluate) (1.4.1)\n",
            "Requirement already satisfied: multidict<7.0,>=4.5 in /usr/local/lib/python3.10/dist-packages (from aiohttp->datasets>=2.0.0->evaluate) (6.0.5)\n",
            "Requirement already satisfied: yarl<2.0,>=1.0 in /usr/local/lib/python3.10/dist-packages (from aiohttp->datasets>=2.0.0->evaluate) (1.9.4)\n",
            "Requirement already satisfied: async-timeout<5.0,>=4.0 in /usr/local/lib/python3.10/dist-packages (from aiohttp->datasets>=2.0.0->evaluate) (4.0.3)\n",
            "Requirement already satisfied: six>=1.5 in /usr/local/lib/python3.10/dist-packages (from python-dateutil>=2.8.2->pandas->evaluate) (1.16.0)\n",
            "Installing collected packages: responses, evaluate\n",
            "Successfully installed evaluate-0.4.1 responses-0.18.0\n"
          ]
        }
      ],
      "source": [
        "!pip install evaluate"
      ]
    },
    {
      "cell_type": "code",
      "execution_count": 46,
      "metadata": {
        "colab": {
          "base_uri": "https://localhost:8080/"
        },
        "id": "nFiwXx3DlkCi",
        "outputId": "a73feeb6-f3f4-4b40-9a31-b7b18f9f9543"
      },
      "outputs": [
        {
          "output_type": "execute_result",
          "data": {
            "text/plain": [
              "{'accuracy': 0.8975}"
            ]
          },
          "metadata": {},
          "execution_count": 46
        }
      ],
      "source": [
        "import evaluate\n",
        "metric = evaluate.load(\"accuracy\")\n",
        "model.eval()\n",
        "model = model.to(device)\n",
        "\n",
        "dl_test = keras_model.accelerator.prepare(dl_test)\n",
        "for batch in dl_test:\n",
        "    with torch.no_grad():\n",
        "        outputs = model(**batch.to(device))\n",
        "\n",
        "    logits = outputs.logits\n",
        "    predictions = torch.argmax(logits, dim=-1)\n",
        "    metric.add_batch(predictions=predictions, references=batch[\"labels\"])\n",
        "\n",
        "metric.compute()"
      ]
    },
    {
      "cell_type": "markdown",
      "metadata": {
        "id": "wQieWgAglkCi"
      },
      "source": [
        "## 五，使用模型"
      ]
    },
    {
      "cell_type": "code",
      "execution_count": 47,
      "metadata": {
        "id": "C4g4OBtllkCi"
      },
      "outputs": [],
      "source": [
        "texts = [\"今天师傅是不是手抖了，微辣格外辣 \",\"这他妈也太难吃了吧\",\"没有送水没有送水没有送水\",\"还行吧\"]\n",
        "batch = tokenizer(texts, padding=True, return_tensors=\"pt\")\n",
        "batch = {k:v.to(keras_model.accelerator.device) for k,v in batch.items()}"
      ]
    },
    {
      "cell_type": "code",
      "execution_count": 48,
      "metadata": {
        "colab": {
          "base_uri": "https://localhost:8080/"
        },
        "id": "SD1dwTUFlkCj",
        "outputId": "8693260c-8bc3-4eed-d5d5-57dc58f17c55"
      },
      "outputs": [
        {
          "output_type": "stream",
          "name": "stdout",
          "text": [
            "tensor([2.2612e-02, 7.8786e-04, 5.4986e-04, 9.7478e-01], device='cuda:0',\n",
            "       grad_fn=<SelectBackward0>)\n"
          ]
        }
      ],
      "source": [
        "from torch import nn\n",
        "logits = model(**batch).logits\n",
        "scores = nn.Softmax(dim=-1)(logits)[:,-1]\n",
        "print(scores)\n",
        "#可以看到得分与人的预期是高度一致的"
      ]
    },
    {
      "cell_type": "markdown",
      "metadata": {
        "id": "MOtcTaYJlkCj"
      },
      "source": [
        "也可以用pipeline把tokenizer和model组装在一起"
      ]
    },
    {
      "cell_type": "code",
      "execution_count": 49,
      "metadata": {
        "colab": {
          "base_uri": "https://localhost:8080/"
        },
        "id": "Gp_9hpXJlkCj",
        "outputId": "9e57c2fc-b034-4db7-db1e-4371f627f1bd"
      },
      "outputs": [
        {
          "output_type": "execute_result",
          "data": {
            "text/plain": [
              "[{'label': 'LABEL_1', 'score': 0.9840770959854126}]"
            ]
          },
          "metadata": {},
          "execution_count": 49
        }
      ],
      "source": [
        "from transformers import pipeline\n",
        "classifier = pipeline(task=\"text-classification\", tokenizer=tokenizer, model=model.cpu())\n",
        "classifier(\"挺好吃的哦\")"
      ]
    },
    {
      "cell_type": "code",
      "execution_count": null,
      "metadata": {
        "id": "DeDvgFEllkCk"
      },
      "outputs": [],
      "source": []
    },
    {
      "cell_type": "markdown",
      "metadata": {
        "id": "xiznE6K6lkCk"
      },
      "source": [
        "## 六，保存模型"
      ]
    },
    {
      "cell_type": "markdown",
      "metadata": {
        "id": "EhBI24iNlkCk"
      },
      "source": [
        "保存model和tokenizer之后，我们可以用一个pipeline加载，并进行批量预测。\n"
      ]
    },
    {
      "cell_type": "code",
      "execution_count": 50,
      "metadata": {
        "colab": {
          "base_uri": "https://localhost:8080/"
        },
        "id": "y9P6WsIGlkCk",
        "outputId": "ce7c244b-3946-48cc-f4bb-13b69bc75faa"
      },
      "outputs": [
        {
          "output_type": "execute_result",
          "data": {
            "text/plain": [
              "('waimai_10k_bert/tokenizer_config.json',\n",
              " 'waimai_10k_bert/special_tokens_map.json',\n",
              " 'waimai_10k_bert/vocab.txt',\n",
              " 'waimai_10k_bert/added_tokens.json',\n",
              " 'waimai_10k_bert/tokenizer.json')"
            ]
          },
          "metadata": {},
          "execution_count": 50
        }
      ],
      "source": [
        "model.config.id2label = {0:\"差评\",1:\"好评\"}\n",
        "model.save_pretrained(\"waimai_10k_bert\")\n",
        "tokenizer.save_pretrained(\"waimai_10k_bert\")"
      ]
    },
    {
      "cell_type": "code",
      "execution_count": 51,
      "metadata": {
        "id": "MsNkC9p6lkCl"
      },
      "outputs": [],
      "source": [
        "from transformers import pipeline\n",
        "classifier = pipeline(\"text-classification\",model=\"waimai_10k_bert\")\n"
      ]
    },
    {
      "cell_type": "code",
      "execution_count": 52,
      "metadata": {
        "colab": {
          "base_uri": "https://localhost:8080/"
        },
        "id": "Bc22iDgnlkCl",
        "outputId": "cc29d235-ebad-429a-b31d-4710200c1a28"
      },
      "outputs": [
        {
          "output_type": "execute_result",
          "data": {
            "text/plain": [
              "[{'label': '好评', 'score': 0.9777551293373108},\n",
              " {'label': '差评', 'score': 0.9994437098503113}]"
            ]
          },
          "metadata": {},
          "execution_count": 52
        }
      ],
      "source": [
        "classifier([\"味道还不错，下次再来\",\"我去，吃了我吐了三天\"])"
      ]
    },
    {
      "cell_type": "code",
      "execution_count": 53,
      "metadata": {
        "colab": {
          "base_uri": "https://localhost:8080/"
        },
        "id": "X3RzZIV-lkCl",
        "outputId": "6571f5cd-e85a-4348-c499-0fa92e49d8eb"
      },
      "outputs": [
        {
          "output_type": "execute_result",
          "data": {
            "text/plain": [
              "[{'label': '好评', 'score': 0.9777470231056213},\n",
              " {'label': '差评', 'score': 0.8687992691993713}]"
            ]
          },
          "metadata": {},
          "execution_count": 53
        }
      ],
      "source": [
        "classifier([\"用户：你好，我想买点理财\",\"想鼓励一下作者杀人\"])"
      ]
    },
    {
      "cell_type": "code",
      "source": [],
      "metadata": {
        "id": "zCtv_nN17b71"
      },
      "execution_count": null,
      "outputs": []
    }
  ],
  "metadata": {
    "kernelspec": {
      "display_name": "Python 3",
      "name": "python3"
    },
    "language_info": {
      "codemirror_mode": {
        "name": "ipython",
        "version": 3
      },
      "file_extension": ".py",
      "mimetype": "text/x-python",
      "name": "python",
      "nbconvert_exporter": "python",
      "pygments_lexer": "ipython3",
      "version": "3.9.0"
    },
    "colab": {
      "provenance": [],
      "gpuType": "T4",
      "include_colab_link": true
    },
    "accelerator": "GPU",
    "widgets": {
      "application/vnd.jupyter.widget-state+json": {
        "5e17e92f944c4baba8f833dc39536f8f": {
          "model_module": "@jupyter-widgets/controls",
          "model_name": "HBoxModel",
          "model_module_version": "1.5.0",
          "state": {
            "_dom_classes": [],
            "_model_module": "@jupyter-widgets/controls",
            "_model_module_version": "1.5.0",
            "_model_name": "HBoxModel",
            "_view_count": null,
            "_view_module": "@jupyter-widgets/controls",
            "_view_module_version": "1.5.0",
            "_view_name": "HBoxView",
            "box_style": "",
            "children": [
              "IPY_MODEL_b118110b6c1a4e35a19e8e4f7e4aa66e",
              "IPY_MODEL_14905759328a47d0a32f94344c741a5a",
              "IPY_MODEL_23471a88434642798422fb3dd147e8ed"
            ],
            "layout": "IPY_MODEL_32f6f165951b433082b30d795f7d8c98"
          }
        },
        "b118110b6c1a4e35a19e8e4f7e4aa66e": {
          "model_module": "@jupyter-widgets/controls",
          "model_name": "HTMLModel",
          "model_module_version": "1.5.0",
          "state": {
            "_dom_classes": [],
            "_model_module": "@jupyter-widgets/controls",
            "_model_module_version": "1.5.0",
            "_model_name": "HTMLModel",
            "_view_count": null,
            "_view_module": "@jupyter-widgets/controls",
            "_view_module_version": "1.5.0",
            "_view_name": "HTMLView",
            "description": "",
            "description_tooltip": null,
            "layout": "IPY_MODEL_6902740078df4375bc31a6fc630cbd7e",
            "placeholder": "​",
            "style": "IPY_MODEL_34c652c518f84dc18a7444b4ed6c4fee",
            "value": "Map (num_proc=4): 100%"
          }
        },
        "14905759328a47d0a32f94344c741a5a": {
          "model_module": "@jupyter-widgets/controls",
          "model_name": "FloatProgressModel",
          "model_module_version": "1.5.0",
          "state": {
            "_dom_classes": [],
            "_model_module": "@jupyter-widgets/controls",
            "_model_module_version": "1.5.0",
            "_model_name": "FloatProgressModel",
            "_view_count": null,
            "_view_module": "@jupyter-widgets/controls",
            "_view_module_version": "1.5.0",
            "_view_name": "ProgressView",
            "bar_style": "success",
            "description": "",
            "description_tooltip": null,
            "layout": "IPY_MODEL_a9a9f8db1b804941b88ee1987bd6f4c6",
            "max": 2000,
            "min": 0,
            "orientation": "horizontal",
            "style": "IPY_MODEL_0a6e5118777348eea83ad7c38cf9fe29",
            "value": 2000
          }
        },
        "23471a88434642798422fb3dd147e8ed": {
          "model_module": "@jupyter-widgets/controls",
          "model_name": "HTMLModel",
          "model_module_version": "1.5.0",
          "state": {
            "_dom_classes": [],
            "_model_module": "@jupyter-widgets/controls",
            "_model_module_version": "1.5.0",
            "_model_name": "HTMLModel",
            "_view_count": null,
            "_view_module": "@jupyter-widgets/controls",
            "_view_module_version": "1.5.0",
            "_view_name": "HTMLView",
            "description": "",
            "description_tooltip": null,
            "layout": "IPY_MODEL_f923393b93554bc48360f415004f8560",
            "placeholder": "​",
            "style": "IPY_MODEL_3731ccc31e1a4349b52c2a6c4a91e0a8",
            "value": " 2000/2000 [00:03&lt;00:00, 3634.23 examples/s]"
          }
        },
        "32f6f165951b433082b30d795f7d8c98": {
          "model_module": "@jupyter-widgets/base",
          "model_name": "LayoutModel",
          "model_module_version": "1.2.0",
          "state": {
            "_model_module": "@jupyter-widgets/base",
            "_model_module_version": "1.2.0",
            "_model_name": "LayoutModel",
            "_view_count": null,
            "_view_module": "@jupyter-widgets/base",
            "_view_module_version": "1.2.0",
            "_view_name": "LayoutView",
            "align_content": null,
            "align_items": null,
            "align_self": null,
            "border": null,
            "bottom": null,
            "display": null,
            "flex": null,
            "flex_flow": null,
            "grid_area": null,
            "grid_auto_columns": null,
            "grid_auto_flow": null,
            "grid_auto_rows": null,
            "grid_column": null,
            "grid_gap": null,
            "grid_row": null,
            "grid_template_areas": null,
            "grid_template_columns": null,
            "grid_template_rows": null,
            "height": null,
            "justify_content": null,
            "justify_items": null,
            "left": null,
            "margin": null,
            "max_height": null,
            "max_width": null,
            "min_height": null,
            "min_width": null,
            "object_fit": null,
            "object_position": null,
            "order": null,
            "overflow": null,
            "overflow_x": null,
            "overflow_y": null,
            "padding": null,
            "right": null,
            "top": null,
            "visibility": null,
            "width": null
          }
        },
        "6902740078df4375bc31a6fc630cbd7e": {
          "model_module": "@jupyter-widgets/base",
          "model_name": "LayoutModel",
          "model_module_version": "1.2.0",
          "state": {
            "_model_module": "@jupyter-widgets/base",
            "_model_module_version": "1.2.0",
            "_model_name": "LayoutModel",
            "_view_count": null,
            "_view_module": "@jupyter-widgets/base",
            "_view_module_version": "1.2.0",
            "_view_name": "LayoutView",
            "align_content": null,
            "align_items": null,
            "align_self": null,
            "border": null,
            "bottom": null,
            "display": null,
            "flex": null,
            "flex_flow": null,
            "grid_area": null,
            "grid_auto_columns": null,
            "grid_auto_flow": null,
            "grid_auto_rows": null,
            "grid_column": null,
            "grid_gap": null,
            "grid_row": null,
            "grid_template_areas": null,
            "grid_template_columns": null,
            "grid_template_rows": null,
            "height": null,
            "justify_content": null,
            "justify_items": null,
            "left": null,
            "margin": null,
            "max_height": null,
            "max_width": null,
            "min_height": null,
            "min_width": null,
            "object_fit": null,
            "object_position": null,
            "order": null,
            "overflow": null,
            "overflow_x": null,
            "overflow_y": null,
            "padding": null,
            "right": null,
            "top": null,
            "visibility": null,
            "width": null
          }
        },
        "34c652c518f84dc18a7444b4ed6c4fee": {
          "model_module": "@jupyter-widgets/controls",
          "model_name": "DescriptionStyleModel",
          "model_module_version": "1.5.0",
          "state": {
            "_model_module": "@jupyter-widgets/controls",
            "_model_module_version": "1.5.0",
            "_model_name": "DescriptionStyleModel",
            "_view_count": null,
            "_view_module": "@jupyter-widgets/base",
            "_view_module_version": "1.2.0",
            "_view_name": "StyleView",
            "description_width": ""
          }
        },
        "a9a9f8db1b804941b88ee1987bd6f4c6": {
          "model_module": "@jupyter-widgets/base",
          "model_name": "LayoutModel",
          "model_module_version": "1.2.0",
          "state": {
            "_model_module": "@jupyter-widgets/base",
            "_model_module_version": "1.2.0",
            "_model_name": "LayoutModel",
            "_view_count": null,
            "_view_module": "@jupyter-widgets/base",
            "_view_module_version": "1.2.0",
            "_view_name": "LayoutView",
            "align_content": null,
            "align_items": null,
            "align_self": null,
            "border": null,
            "bottom": null,
            "display": null,
            "flex": null,
            "flex_flow": null,
            "grid_area": null,
            "grid_auto_columns": null,
            "grid_auto_flow": null,
            "grid_auto_rows": null,
            "grid_column": null,
            "grid_gap": null,
            "grid_row": null,
            "grid_template_areas": null,
            "grid_template_columns": null,
            "grid_template_rows": null,
            "height": null,
            "justify_content": null,
            "justify_items": null,
            "left": null,
            "margin": null,
            "max_height": null,
            "max_width": null,
            "min_height": null,
            "min_width": null,
            "object_fit": null,
            "object_position": null,
            "order": null,
            "overflow": null,
            "overflow_x": null,
            "overflow_y": null,
            "padding": null,
            "right": null,
            "top": null,
            "visibility": null,
            "width": null
          }
        },
        "0a6e5118777348eea83ad7c38cf9fe29": {
          "model_module": "@jupyter-widgets/controls",
          "model_name": "ProgressStyleModel",
          "model_module_version": "1.5.0",
          "state": {
            "_model_module": "@jupyter-widgets/controls",
            "_model_module_version": "1.5.0",
            "_model_name": "ProgressStyleModel",
            "_view_count": null,
            "_view_module": "@jupyter-widgets/base",
            "_view_module_version": "1.2.0",
            "_view_name": "StyleView",
            "bar_color": null,
            "description_width": ""
          }
        },
        "f923393b93554bc48360f415004f8560": {
          "model_module": "@jupyter-widgets/base",
          "model_name": "LayoutModel",
          "model_module_version": "1.2.0",
          "state": {
            "_model_module": "@jupyter-widgets/base",
            "_model_module_version": "1.2.0",
            "_model_name": "LayoutModel",
            "_view_count": null,
            "_view_module": "@jupyter-widgets/base",
            "_view_module_version": "1.2.0",
            "_view_name": "LayoutView",
            "align_content": null,
            "align_items": null,
            "align_self": null,
            "border": null,
            "bottom": null,
            "display": null,
            "flex": null,
            "flex_flow": null,
            "grid_area": null,
            "grid_auto_columns": null,
            "grid_auto_flow": null,
            "grid_auto_rows": null,
            "grid_column": null,
            "grid_gap": null,
            "grid_row": null,
            "grid_template_areas": null,
            "grid_template_columns": null,
            "grid_template_rows": null,
            "height": null,
            "justify_content": null,
            "justify_items": null,
            "left": null,
            "margin": null,
            "max_height": null,
            "max_width": null,
            "min_height": null,
            "min_width": null,
            "object_fit": null,
            "object_position": null,
            "order": null,
            "overflow": null,
            "overflow_x": null,
            "overflow_y": null,
            "padding": null,
            "right": null,
            "top": null,
            "visibility": null,
            "width": null
          }
        },
        "3731ccc31e1a4349b52c2a6c4a91e0a8": {
          "model_module": "@jupyter-widgets/controls",
          "model_name": "DescriptionStyleModel",
          "model_module_version": "1.5.0",
          "state": {
            "_model_module": "@jupyter-widgets/controls",
            "_model_module_version": "1.5.0",
            "_model_name": "DescriptionStyleModel",
            "_view_count": null,
            "_view_module": "@jupyter-widgets/base",
            "_view_module_version": "1.2.0",
            "_view_name": "StyleView",
            "description_width": ""
          }
        }
      }
    }
  },
  "nbformat": 4,
  "nbformat_minor": 0
}
